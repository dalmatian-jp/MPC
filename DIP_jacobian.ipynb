{
 "cells": [
  {
   "cell_type": "code",
   "execution_count": 14,
   "metadata": {},
   "outputs": [],
   "source": [
    "import casadi as ca\n",
    "\n",
    "import sympy as sp\n"
   ]
  },
  {
   "cell_type": "code",
   "execution_count": null,
   "metadata": {},
   "outputs": [],
   "source": [
    "L0 = 0.158\n",
    "L1 = 0.78\n",
    "L2 = 0.73\n",
    "dt = 0.01\n",
    "dead_time = 0.2\n",
    "controller_dt = 0.01\n",
    "l1=L1 / 2\n",
    "l2=L2 / 2\n",
    "M1=11.41\n",
    "M2=50.14\n",
    "I1=0.35\n",
    "I2=0.25\n",
    "c1=0\n",
    "c2=0\n",
    "g=9.8\n",
    "Q = ca.diag([5000,8000,7000,8500])\n",
    "R = ca.diag([0.02,0.01])\n",
    "N = 400\n",
    "horizon_dt = 0.01\n",
    "x = [0.0876,0,0,0]\n",
    "\n",
    "\n"
   ]
  },
  {
   "cell_type": "code",
   "execution_count": 27,
   "metadata": {},
   "outputs": [
    {
     "name": "stdout",
     "output_type": "stream",
     "text": [
      "Matrix([[-221.718850794638, -115.515512609623, 0, 0], [704.217510196917, 379.246622182072, 0, 0]])\n"
     ]
    }
   ],
   "source": [
    "import sympy as sp\n",
    "\n",
    "# シンボリック変数の定義\n",
    "L1_sym, L2_sym = sp.symbols('L1 L2')  # アームの長さ\n",
    "M1_sym, M2_sym = sp.symbols('M1 M2')  # 質量\n",
    "I1_sym, I2_sym = sp.symbols('I1 I2')  # 慣性モーメント\n",
    "G_sym = sp.symbols('G')              # 重力加速度\n",
    "theta1, theta2 = sp.symbols('theta1 theta2')  # 角度\n",
    "theta1_dot, theta2_dot = sp.symbols('theta1_dot theta2_dot')  # 角速度\n",
    "u1, u2 = sp.symbols('u1 u2')  # 入力トルク\n",
    "\n",
    "# 状態ベクトル\n",
    "state = sp.Matrix([theta1, theta2, theta1_dot, theta2_dot])\n",
    "u = sp.Matrix([u1, u2])\n",
    "\n",
    "# αの計算\n",
    "alpha1 = 1/4 * L1_sym**2 * M1_sym + I1_sym\n",
    "alpha2 = 1/4 * L2_sym**2 * M2_sym + I2_sym\n",
    "alpha3 = 1/2 * L1_sym * L2_sym * M2_sym * sp.cos(theta2)\n",
    "alpha4 = L1_sym**2 * M2_sym\n",
    "\n",
    "# 質量行列の逆行列計算\n",
    "det_M = alpha2 * (alpha1 + alpha4) - alpha3**2\n",
    "M_inv = sp.Matrix([\n",
    "    [alpha2 / det_M, -(alpha2 + alpha3) / det_M],\n",
    "    [-(alpha2 + alpha3) / det_M, (alpha1 + alpha2 + 2 * alpha3 + alpha4) / det_M]\n",
    "])\n",
    "\n",
    "# f_1とf_2の計算\n",
    "f_1 = (\n",
    "    u1 + 1/2 * L1_sym * L2_sym * M2_sym * sp.sin(theta2) * theta2_dot**2 -\n",
    "    L1_sym * L2_sym * M2_sym * sp.sin(theta2) * theta1_dot * theta2_dot +\n",
    "    1/2 * G_sym * L2_sym * M2_sym * sp.sin(theta1 + theta2) +\n",
    "    1/2 * G_sym * L1_sym * M1_sym * sp.sin(theta1) -\n",
    "    G_sym * L1_sym * M2_sym * sp.sin(theta1)\n",
    ")\n",
    "\n",
    "f_2 = (\n",
    "    u2 - 1/2 * L1_sym * theta1_dot**2 * sp.sin(theta2) +\n",
    "    1/2 * G_sym * L2_sym * M2_sym * sp.sin(theta1 + theta2)\n",
    ")\n",
    "\n",
    "f = sp.Matrix([f_1, f_2])\n",
    "\n",
    "# 加速度の計算\n",
    "ddot_theta = M_inv * f\n",
    "\n",
    "# ヤコビアンの計算\n",
    "jacobian_ddot_theta = ddot_theta.jacobian(state)\n",
    "\n",
    "# 数値代入\n",
    "values = {\n",
    "    L1_sym: 0.78,\n",
    "    L2_sym: 0.73,\n",
    "    M1_sym: 11.41,\n",
    "    M2_sym: 50.14,\n",
    "    I1_sym: 0.35,\n",
    "    I2_sym: 0.25,\n",
    "    G_sym: 9.8,\n",
    "    theta1: 0.0876,\n",
    "    theta2: 0.0,\n",
    "    theta1_dot: 0.0,\n",
    "    theta2_dot: 0.0,\n",
    "    u1: 0.0,\n",
    "    u2: 0.0\n",
    "}\n",
    "\n",
    "# ヤコビアンの計算結果\n",
    "jacobian_ddot_theta_numeric = jacobian_ddot_theta.subs(values).evalf()\n",
    "\n",
    "# 結果表示\n",
    "print(jacobian_ddot_theta_numeric)\n"
   ]
  },
  {
   "cell_type": "code",
   "execution_count": 29,
   "metadata": {},
   "outputs": [
    {
     "data": {
      "text/latex": [
       "$\\displaystyle \\left[\\begin{matrix}-221.718850794638 & -115.515512609623 & 0 & 0\\\\704.217510196917 & 379.246622182072 & 0 & 0\\end{matrix}\\right]$"
      ],
      "text/plain": [
       "Matrix([\n",
       "[-221.718850794638, -115.515512609623, 0, 0],\n",
       "[ 704.217510196917,  379.246622182072, 0, 0]])"
      ]
     },
     "execution_count": 29,
     "metadata": {},
     "output_type": "execute_result"
    }
   ],
   "source": [
    "jacobian_ddot_theta_numeric"
   ]
  },
  {
   "cell_type": "code",
   "execution_count": 32,
   "metadata": {},
   "outputs": [
    {
     "data": {
      "text/latex": [
       "$\\displaystyle \\left[\\begin{matrix}-221.718850794638 & -115.515512609623 & 0 & 0\\\\704.217510196917 & 379.246622182072 & 0 & 0\\end{matrix}\\right]$"
      ],
      "text/plain": [
       "Matrix([\n",
       "[-221.718850794638, -115.515512609623, 0, 0],\n",
       "[ 704.217510196917,  379.246622182072, 0, 0]])"
      ]
     },
     "execution_count": 32,
     "metadata": {},
     "output_type": "execute_result"
    }
   ],
   "source": [
    "jacobian_ddot_theta_numeric_simplified"
   ]
  },
  {
   "cell_type": "code",
   "execution_count": 28,
   "metadata": {},
   "outputs": [
    {
     "data": {
      "text/latex": [
       "$\\displaystyle \\left[\\begin{matrix}\\frac{0.5 G L_{2} M_{2} \\left(- I_{2} - 0.5 L_{1} L_{2} M_{2} \\cos{\\left(\\theta_{2} \\right)} - 0.25 L_{2}^{2} M_{2}\\right) \\cos{\\left(\\theta_{1} + \\theta_{2} \\right)}}{- 0.25 L_{1}^{2} L_{2}^{2} M_{2}^{2} \\cos^{2}{\\left(\\theta_{2} \\right)} + \\left(I_{2} + 0.25 L_{2}^{2} M_{2}\\right) \\left(I_{1} + 0.25 L_{1}^{2} M_{1} + L_{1}^{2} M_{2}\\right)} + \\frac{\\left(I_{2} + 0.25 L_{2}^{2} M_{2}\\right) \\left(0.5 G L_{1} M_{1} \\cos{\\left(\\theta_{1} \\right)} - G L_{1} M_{2} \\cos{\\left(\\theta_{1} \\right)} + 0.5 G L_{2} M_{2} \\cos{\\left(\\theta_{1} + \\theta_{2} \\right)}\\right)}{- 0.25 L_{1}^{2} L_{2}^{2} M_{2}^{2} \\cos^{2}{\\left(\\theta_{2} \\right)} + \\left(I_{2} + 0.25 L_{2}^{2} M_{2}\\right) \\left(I_{1} + 0.25 L_{1}^{2} M_{1} + L_{1}^{2} M_{2}\\right)} & - \\frac{0.5 L_{1}^{2} L_{2}^{2} M_{2}^{2} \\left(I_{2} + 0.25 L_{2}^{2} M_{2}\\right) \\left(0.5 G L_{1} M_{1} \\sin{\\left(\\theta_{1} \\right)} - G L_{1} M_{2} \\sin{\\left(\\theta_{1} \\right)} + 0.5 G L_{2} M_{2} \\sin{\\left(\\theta_{1} + \\theta_{2} \\right)} - L_{1} L_{2} M_{2} \\theta_{1 dot} \\theta_{2 dot} \\sin{\\left(\\theta_{2} \\right)} + 0.5 L_{1} L_{2} M_{2} \\theta_{2 dot}^{2} \\sin{\\left(\\theta_{2} \\right)} + u_{1}\\right) \\sin{\\left(\\theta_{2} \\right)} \\cos{\\left(\\theta_{2} \\right)}}{\\left(- 0.25 L_{1}^{2} L_{2}^{2} M_{2}^{2} \\cos^{2}{\\left(\\theta_{2} \\right)} + \\left(I_{2} + 0.25 L_{2}^{2} M_{2}\\right) \\left(I_{1} + 0.25 L_{1}^{2} M_{1} + L_{1}^{2} M_{2}\\right)\\right)^{2}} - \\frac{0.5 L_{1}^{2} L_{2}^{2} M_{2}^{2} \\left(- I_{2} - 0.5 L_{1} L_{2} M_{2} \\cos{\\left(\\theta_{2} \\right)} - 0.25 L_{2}^{2} M_{2}\\right) \\left(0.5 G L_{2} M_{2} \\sin{\\left(\\theta_{1} + \\theta_{2} \\right)} - 0.5 L_{1} \\theta_{1 dot}^{2} \\sin{\\left(\\theta_{2} \\right)} + u_{2}\\right) \\sin{\\left(\\theta_{2} \\right)} \\cos{\\left(\\theta_{2} \\right)}}{\\left(- 0.25 L_{1}^{2} L_{2}^{2} M_{2}^{2} \\cos^{2}{\\left(\\theta_{2} \\right)} + \\left(I_{2} + 0.25 L_{2}^{2} M_{2}\\right) \\left(I_{1} + 0.25 L_{1}^{2} M_{1} + L_{1}^{2} M_{2}\\right)\\right)^{2}} + \\frac{0.5 L_{1} L_{2} M_{2} \\cdot \\left(0.5 G L_{2} M_{2} \\sin{\\left(\\theta_{1} + \\theta_{2} \\right)} - 0.5 L_{1} \\theta_{1 dot}^{2} \\sin{\\left(\\theta_{2} \\right)} + u_{2}\\right) \\sin{\\left(\\theta_{2} \\right)}}{- 0.25 L_{1}^{2} L_{2}^{2} M_{2}^{2} \\cos^{2}{\\left(\\theta_{2} \\right)} + \\left(I_{2} + 0.25 L_{2}^{2} M_{2}\\right) \\left(I_{1} + 0.25 L_{1}^{2} M_{1} + L_{1}^{2} M_{2}\\right)} + \\frac{\\left(I_{2} + 0.25 L_{2}^{2} M_{2}\\right) \\left(0.5 G L_{2} M_{2} \\cos{\\left(\\theta_{1} + \\theta_{2} \\right)} - L_{1} L_{2} M_{2} \\theta_{1 dot} \\theta_{2 dot} \\cos{\\left(\\theta_{2} \\right)} + 0.5 L_{1} L_{2} M_{2} \\theta_{2 dot}^{2} \\cos{\\left(\\theta_{2} \\right)}\\right)}{- 0.25 L_{1}^{2} L_{2}^{2} M_{2}^{2} \\cos^{2}{\\left(\\theta_{2} \\right)} + \\left(I_{2} + 0.25 L_{2}^{2} M_{2}\\right) \\left(I_{1} + 0.25 L_{1}^{2} M_{1} + L_{1}^{2} M_{2}\\right)} + \\frac{\\left(0.5 G L_{2} M_{2} \\cos{\\left(\\theta_{1} + \\theta_{2} \\right)} - 0.5 L_{1} \\theta_{1 dot}^{2} \\cos{\\left(\\theta_{2} \\right)}\\right) \\left(- I_{2} - 0.5 L_{1} L_{2} M_{2} \\cos{\\left(\\theta_{2} \\right)} - 0.25 L_{2}^{2} M_{2}\\right)}{- 0.25 L_{1}^{2} L_{2}^{2} M_{2}^{2} \\cos^{2}{\\left(\\theta_{2} \\right)} + \\left(I_{2} + 0.25 L_{2}^{2} M_{2}\\right) \\left(I_{1} + 0.25 L_{1}^{2} M_{1} + L_{1}^{2} M_{2}\\right)} & - \\frac{L_{1} L_{2} M_{2} \\theta_{2 dot} \\left(I_{2} + 0.25 L_{2}^{2} M_{2}\\right) \\sin{\\left(\\theta_{2} \\right)}}{- 0.25 L_{1}^{2} L_{2}^{2} M_{2}^{2} \\cos^{2}{\\left(\\theta_{2} \\right)} + \\left(I_{2} + 0.25 L_{2}^{2} M_{2}\\right) \\left(I_{1} + 0.25 L_{1}^{2} M_{1} + L_{1}^{2} M_{2}\\right)} - \\frac{1.0 L_{1} \\theta_{1 dot} \\left(- I_{2} - 0.5 L_{1} L_{2} M_{2} \\cos{\\left(\\theta_{2} \\right)} - 0.25 L_{2}^{2} M_{2}\\right) \\sin{\\left(\\theta_{2} \\right)}}{- 0.25 L_{1}^{2} L_{2}^{2} M_{2}^{2} \\cos^{2}{\\left(\\theta_{2} \\right)} + \\left(I_{2} + 0.25 L_{2}^{2} M_{2}\\right) \\left(I_{1} + 0.25 L_{1}^{2} M_{1} + L_{1}^{2} M_{2}\\right)} & \\frac{\\left(I_{2} + 0.25 L_{2}^{2} M_{2}\\right) \\left(- L_{1} L_{2} M_{2} \\theta_{1 dot} \\sin{\\left(\\theta_{2} \\right)} + 1.0 L_{1} L_{2} M_{2} \\theta_{2 dot} \\sin{\\left(\\theta_{2} \\right)}\\right)}{- 0.25 L_{1}^{2} L_{2}^{2} M_{2}^{2} \\cos^{2}{\\left(\\theta_{2} \\right)} + \\left(I_{2} + 0.25 L_{2}^{2} M_{2}\\right) \\left(I_{1} + 0.25 L_{1}^{2} M_{1} + L_{1}^{2} M_{2}\\right)}\\\\\\frac{0.5 G L_{2} M_{2} \\left(I_{1} + I_{2} + 0.25 L_{1}^{2} M_{1} + L_{1}^{2} M_{2} + 1.0 L_{1} L_{2} M_{2} \\cos{\\left(\\theta_{2} \\right)} + 0.25 L_{2}^{2} M_{2}\\right) \\cos{\\left(\\theta_{1} + \\theta_{2} \\right)}}{- 0.25 L_{1}^{2} L_{2}^{2} M_{2}^{2} \\cos^{2}{\\left(\\theta_{2} \\right)} + \\left(I_{2} + 0.25 L_{2}^{2} M_{2}\\right) \\left(I_{1} + 0.25 L_{1}^{2} M_{1} + L_{1}^{2} M_{2}\\right)} + \\frac{\\left(- I_{2} - 0.5 L_{1} L_{2} M_{2} \\cos{\\left(\\theta_{2} \\right)} - 0.25 L_{2}^{2} M_{2}\\right) \\left(0.5 G L_{1} M_{1} \\cos{\\left(\\theta_{1} \\right)} - G L_{1} M_{2} \\cos{\\left(\\theta_{1} \\right)} + 0.5 G L_{2} M_{2} \\cos{\\left(\\theta_{1} + \\theta_{2} \\right)}\\right)}{- 0.25 L_{1}^{2} L_{2}^{2} M_{2}^{2} \\cos^{2}{\\left(\\theta_{2} \\right)} + \\left(I_{2} + 0.25 L_{2}^{2} M_{2}\\right) \\left(I_{1} + 0.25 L_{1}^{2} M_{1} + L_{1}^{2} M_{2}\\right)} & - \\frac{0.5 L_{1}^{2} L_{2}^{2} M_{2}^{2} \\left(- I_{2} - 0.5 L_{1} L_{2} M_{2} \\cos{\\left(\\theta_{2} \\right)} - 0.25 L_{2}^{2} M_{2}\\right) \\left(0.5 G L_{1} M_{1} \\sin{\\left(\\theta_{1} \\right)} - G L_{1} M_{2} \\sin{\\left(\\theta_{1} \\right)} + 0.5 G L_{2} M_{2} \\sin{\\left(\\theta_{1} + \\theta_{2} \\right)} - L_{1} L_{2} M_{2} \\theta_{1 dot} \\theta_{2 dot} \\sin{\\left(\\theta_{2} \\right)} + 0.5 L_{1} L_{2} M_{2} \\theta_{2 dot}^{2} \\sin{\\left(\\theta_{2} \\right)} + u_{1}\\right) \\sin{\\left(\\theta_{2} \\right)} \\cos{\\left(\\theta_{2} \\right)}}{\\left(- 0.25 L_{1}^{2} L_{2}^{2} M_{2}^{2} \\cos^{2}{\\left(\\theta_{2} \\right)} + \\left(I_{2} + 0.25 L_{2}^{2} M_{2}\\right) \\left(I_{1} + 0.25 L_{1}^{2} M_{1} + L_{1}^{2} M_{2}\\right)\\right)^{2}} - \\frac{0.5 L_{1}^{2} L_{2}^{2} M_{2}^{2} \\cdot \\left(0.5 G L_{2} M_{2} \\sin{\\left(\\theta_{1} + \\theta_{2} \\right)} - 0.5 L_{1} \\theta_{1 dot}^{2} \\sin{\\left(\\theta_{2} \\right)} + u_{2}\\right) \\left(I_{1} + I_{2} + 0.25 L_{1}^{2} M_{1} + L_{1}^{2} M_{2} + 1.0 L_{1} L_{2} M_{2} \\cos{\\left(\\theta_{2} \\right)} + 0.25 L_{2}^{2} M_{2}\\right) \\sin{\\left(\\theta_{2} \\right)} \\cos{\\left(\\theta_{2} \\right)}}{\\left(- 0.25 L_{1}^{2} L_{2}^{2} M_{2}^{2} \\cos^{2}{\\left(\\theta_{2} \\right)} + \\left(I_{2} + 0.25 L_{2}^{2} M_{2}\\right) \\left(I_{1} + 0.25 L_{1}^{2} M_{1} + L_{1}^{2} M_{2}\\right)\\right)^{2}} - \\frac{1.0 L_{1} L_{2} M_{2} \\cdot \\left(0.5 G L_{2} M_{2} \\sin{\\left(\\theta_{1} + \\theta_{2} \\right)} - 0.5 L_{1} \\theta_{1 dot}^{2} \\sin{\\left(\\theta_{2} \\right)} + u_{2}\\right) \\sin{\\left(\\theta_{2} \\right)}}{- 0.25 L_{1}^{2} L_{2}^{2} M_{2}^{2} \\cos^{2}{\\left(\\theta_{2} \\right)} + \\left(I_{2} + 0.25 L_{2}^{2} M_{2}\\right) \\left(I_{1} + 0.25 L_{1}^{2} M_{1} + L_{1}^{2} M_{2}\\right)} + \\frac{0.5 L_{1} L_{2} M_{2} \\cdot \\left(0.5 G L_{1} M_{1} \\sin{\\left(\\theta_{1} \\right)} - G L_{1} M_{2} \\sin{\\left(\\theta_{1} \\right)} + 0.5 G L_{2} M_{2} \\sin{\\left(\\theta_{1} + \\theta_{2} \\right)} - L_{1} L_{2} M_{2} \\theta_{1 dot} \\theta_{2 dot} \\sin{\\left(\\theta_{2} \\right)} + 0.5 L_{1} L_{2} M_{2} \\theta_{2 dot}^{2} \\sin{\\left(\\theta_{2} \\right)} + u_{1}\\right) \\sin{\\left(\\theta_{2} \\right)}}{- 0.25 L_{1}^{2} L_{2}^{2} M_{2}^{2} \\cos^{2}{\\left(\\theta_{2} \\right)} + \\left(I_{2} + 0.25 L_{2}^{2} M_{2}\\right) \\left(I_{1} + 0.25 L_{1}^{2} M_{1} + L_{1}^{2} M_{2}\\right)} + \\frac{\\left(0.5 G L_{2} M_{2} \\cos{\\left(\\theta_{1} + \\theta_{2} \\right)} - 0.5 L_{1} \\theta_{1 dot}^{2} \\cos{\\left(\\theta_{2} \\right)}\\right) \\left(I_{1} + I_{2} + 0.25 L_{1}^{2} M_{1} + L_{1}^{2} M_{2} + 1.0 L_{1} L_{2} M_{2} \\cos{\\left(\\theta_{2} \\right)} + 0.25 L_{2}^{2} M_{2}\\right)}{- 0.25 L_{1}^{2} L_{2}^{2} M_{2}^{2} \\cos^{2}{\\left(\\theta_{2} \\right)} + \\left(I_{2} + 0.25 L_{2}^{2} M_{2}\\right) \\left(I_{1} + 0.25 L_{1}^{2} M_{1} + L_{1}^{2} M_{2}\\right)} + \\frac{\\left(- I_{2} - 0.5 L_{1} L_{2} M_{2} \\cos{\\left(\\theta_{2} \\right)} - 0.25 L_{2}^{2} M_{2}\\right) \\left(0.5 G L_{2} M_{2} \\cos{\\left(\\theta_{1} + \\theta_{2} \\right)} - L_{1} L_{2} M_{2} \\theta_{1 dot} \\theta_{2 dot} \\cos{\\left(\\theta_{2} \\right)} + 0.5 L_{1} L_{2} M_{2} \\theta_{2 dot}^{2} \\cos{\\left(\\theta_{2} \\right)}\\right)}{- 0.25 L_{1}^{2} L_{2}^{2} M_{2}^{2} \\cos^{2}{\\left(\\theta_{2} \\right)} + \\left(I_{2} + 0.25 L_{2}^{2} M_{2}\\right) \\left(I_{1} + 0.25 L_{1}^{2} M_{1} + L_{1}^{2} M_{2}\\right)} & - \\frac{L_{1} L_{2} M_{2} \\theta_{2 dot} \\left(- I_{2} - 0.5 L_{1} L_{2} M_{2} \\cos{\\left(\\theta_{2} \\right)} - 0.25 L_{2}^{2} M_{2}\\right) \\sin{\\left(\\theta_{2} \\right)}}{- 0.25 L_{1}^{2} L_{2}^{2} M_{2}^{2} \\cos^{2}{\\left(\\theta_{2} \\right)} + \\left(I_{2} + 0.25 L_{2}^{2} M_{2}\\right) \\left(I_{1} + 0.25 L_{1}^{2} M_{1} + L_{1}^{2} M_{2}\\right)} - \\frac{1.0 L_{1} \\theta_{1 dot} \\left(I_{1} + I_{2} + 0.25 L_{1}^{2} M_{1} + L_{1}^{2} M_{2} + 1.0 L_{1} L_{2} M_{2} \\cos{\\left(\\theta_{2} \\right)} + 0.25 L_{2}^{2} M_{2}\\right) \\sin{\\left(\\theta_{2} \\right)}}{- 0.25 L_{1}^{2} L_{2}^{2} M_{2}^{2} \\cos^{2}{\\left(\\theta_{2} \\right)} + \\left(I_{2} + 0.25 L_{2}^{2} M_{2}\\right) \\left(I_{1} + 0.25 L_{1}^{2} M_{1} + L_{1}^{2} M_{2}\\right)} & \\frac{\\left(- L_{1} L_{2} M_{2} \\theta_{1 dot} \\sin{\\left(\\theta_{2} \\right)} + 1.0 L_{1} L_{2} M_{2} \\theta_{2 dot} \\sin{\\left(\\theta_{2} \\right)}\\right) \\left(- I_{2} - 0.5 L_{1} L_{2} M_{2} \\cos{\\left(\\theta_{2} \\right)} - 0.25 L_{2}^{2} M_{2}\\right)}{- 0.25 L_{1}^{2} L_{2}^{2} M_{2}^{2} \\cos^{2}{\\left(\\theta_{2} \\right)} + \\left(I_{2} + 0.25 L_{2}^{2} M_{2}\\right) \\left(I_{1} + 0.25 L_{1}^{2} M_{1} + L_{1}^{2} M_{2}\\right)}\\end{matrix}\\right]$"
      ],
      "text/plain": [
       "Matrix([\n",
       "[                                                           0.5*G*L2*M2*(-I2 - 0.5*L1*L2*M2*cos(theta2) - 0.25*L2**2*M2)*cos(theta1 + theta2)/(-0.25*L1**2*L2**2*M2**2*cos(theta2)**2 + (I2 + 0.25*L2**2*M2)*(I1 + 0.25*L1**2*M1 + L1**2*M2)) + (I2 + 0.25*L2**2*M2)*(0.5*G*L1*M1*cos(theta1) - G*L1*M2*cos(theta1) + 0.5*G*L2*M2*cos(theta1 + theta2))/(-0.25*L1**2*L2**2*M2**2*cos(theta2)**2 + (I2 + 0.25*L2**2*M2)*(I1 + 0.25*L1**2*M1 + L1**2*M2)),                                                                                                                                                                                                                                                                                                                                                                                                                                -0.5*L1**2*L2**2*M2**2*(I2 + 0.25*L2**2*M2)*(0.5*G*L1*M1*sin(theta1) - G*L1*M2*sin(theta1) + 0.5*G*L2*M2*sin(theta1 + theta2) - L1*L2*M2*theta1_dot*theta2_dot*sin(theta2) + 0.5*L1*L2*M2*theta2_dot**2*sin(theta2) + u1)*sin(theta2)*cos(theta2)/(-0.25*L1**2*L2**2*M2**2*cos(theta2)**2 + (I2 + 0.25*L2**2*M2)*(I1 + 0.25*L1**2*M1 + L1**2*M2))**2 - 0.5*L1**2*L2**2*M2**2*(-I2 - 0.5*L1*L2*M2*cos(theta2) - 0.25*L2**2*M2)*(0.5*G*L2*M2*sin(theta1 + theta2) - 0.5*L1*theta1_dot**2*sin(theta2) + u2)*sin(theta2)*cos(theta2)/(-0.25*L1**2*L2**2*M2**2*cos(theta2)**2 + (I2 + 0.25*L2**2*M2)*(I1 + 0.25*L1**2*M1 + L1**2*M2))**2 + 0.5*L1*L2*M2*(0.5*G*L2*M2*sin(theta1 + theta2) - 0.5*L1*theta1_dot**2*sin(theta2) + u2)*sin(theta2)/(-0.25*L1**2*L2**2*M2**2*cos(theta2)**2 + (I2 + 0.25*L2**2*M2)*(I1 + 0.25*L1**2*M1 + L1**2*M2)) + (I2 + 0.25*L2**2*M2)*(0.5*G*L2*M2*cos(theta1 + theta2) - L1*L2*M2*theta1_dot*theta2_dot*cos(theta2) + 0.5*L1*L2*M2*theta2_dot**2*cos(theta2))/(-0.25*L1**2*L2**2*M2**2*cos(theta2)**2 + (I2 + 0.25*L2**2*M2)*(I1 + 0.25*L1**2*M1 + L1**2*M2)) + (0.5*G*L2*M2*cos(theta1 + theta2) - 0.5*L1*theta1_dot**2*cos(theta2))*(-I2 - 0.5*L1*L2*M2*cos(theta2) - 0.25*L2**2*M2)/(-0.25*L1**2*L2**2*M2**2*cos(theta2)**2 + (I2 + 0.25*L2**2*M2)*(I1 + 0.25*L1**2*M1 + L1**2*M2)),                                                            -L1*L2*M2*theta2_dot*(I2 + 0.25*L2**2*M2)*sin(theta2)/(-0.25*L1**2*L2**2*M2**2*cos(theta2)**2 + (I2 + 0.25*L2**2*M2)*(I1 + 0.25*L1**2*M1 + L1**2*M2)) - 1.0*L1*theta1_dot*(-I2 - 0.5*L1*L2*M2*cos(theta2) - 0.25*L2**2*M2)*sin(theta2)/(-0.25*L1**2*L2**2*M2**2*cos(theta2)**2 + (I2 + 0.25*L2**2*M2)*(I1 + 0.25*L1**2*M1 + L1**2*M2)),                             (I2 + 0.25*L2**2*M2)*(-L1*L2*M2*theta1_dot*sin(theta2) + 1.0*L1*L2*M2*theta2_dot*sin(theta2))/(-0.25*L1**2*L2**2*M2**2*cos(theta2)**2 + (I2 + 0.25*L2**2*M2)*(I1 + 0.25*L1**2*M1 + L1**2*M2))],\n",
       "[0.5*G*L2*M2*(I1 + I2 + 0.25*L1**2*M1 + L1**2*M2 + 1.0*L1*L2*M2*cos(theta2) + 0.25*L2**2*M2)*cos(theta1 + theta2)/(-0.25*L1**2*L2**2*M2**2*cos(theta2)**2 + (I2 + 0.25*L2**2*M2)*(I1 + 0.25*L1**2*M1 + L1**2*M2)) + (-I2 - 0.5*L1*L2*M2*cos(theta2) - 0.25*L2**2*M2)*(0.5*G*L1*M1*cos(theta1) - G*L1*M2*cos(theta1) + 0.5*G*L2*M2*cos(theta1 + theta2))/(-0.25*L1**2*L2**2*M2**2*cos(theta2)**2 + (I2 + 0.25*L2**2*M2)*(I1 + 0.25*L1**2*M1 + L1**2*M2)), -0.5*L1**2*L2**2*M2**2*(-I2 - 0.5*L1*L2*M2*cos(theta2) - 0.25*L2**2*M2)*(0.5*G*L1*M1*sin(theta1) - G*L1*M2*sin(theta1) + 0.5*G*L2*M2*sin(theta1 + theta2) - L1*L2*M2*theta1_dot*theta2_dot*sin(theta2) + 0.5*L1*L2*M2*theta2_dot**2*sin(theta2) + u1)*sin(theta2)*cos(theta2)/(-0.25*L1**2*L2**2*M2**2*cos(theta2)**2 + (I2 + 0.25*L2**2*M2)*(I1 + 0.25*L1**2*M1 + L1**2*M2))**2 - 0.5*L1**2*L2**2*M2**2*(0.5*G*L2*M2*sin(theta1 + theta2) - 0.5*L1*theta1_dot**2*sin(theta2) + u2)*(I1 + I2 + 0.25*L1**2*M1 + L1**2*M2 + 1.0*L1*L2*M2*cos(theta2) + 0.25*L2**2*M2)*sin(theta2)*cos(theta2)/(-0.25*L1**2*L2**2*M2**2*cos(theta2)**2 + (I2 + 0.25*L2**2*M2)*(I1 + 0.25*L1**2*M1 + L1**2*M2))**2 - 1.0*L1*L2*M2*(0.5*G*L2*M2*sin(theta1 + theta2) - 0.5*L1*theta1_dot**2*sin(theta2) + u2)*sin(theta2)/(-0.25*L1**2*L2**2*M2**2*cos(theta2)**2 + (I2 + 0.25*L2**2*M2)*(I1 + 0.25*L1**2*M1 + L1**2*M2)) + 0.5*L1*L2*M2*(0.5*G*L1*M1*sin(theta1) - G*L1*M2*sin(theta1) + 0.5*G*L2*M2*sin(theta1 + theta2) - L1*L2*M2*theta1_dot*theta2_dot*sin(theta2) + 0.5*L1*L2*M2*theta2_dot**2*sin(theta2) + u1)*sin(theta2)/(-0.25*L1**2*L2**2*M2**2*cos(theta2)**2 + (I2 + 0.25*L2**2*M2)*(I1 + 0.25*L1**2*M1 + L1**2*M2)) + (0.5*G*L2*M2*cos(theta1 + theta2) - 0.5*L1*theta1_dot**2*cos(theta2))*(I1 + I2 + 0.25*L1**2*M1 + L1**2*M2 + 1.0*L1*L2*M2*cos(theta2) + 0.25*L2**2*M2)/(-0.25*L1**2*L2**2*M2**2*cos(theta2)**2 + (I2 + 0.25*L2**2*M2)*(I1 + 0.25*L1**2*M1 + L1**2*M2)) + (-I2 - 0.5*L1*L2*M2*cos(theta2) - 0.25*L2**2*M2)*(0.5*G*L2*M2*cos(theta1 + theta2) - L1*L2*M2*theta1_dot*theta2_dot*cos(theta2) + 0.5*L1*L2*M2*theta2_dot**2*cos(theta2))/(-0.25*L1**2*L2**2*M2**2*cos(theta2)**2 + (I2 + 0.25*L2**2*M2)*(I1 + 0.25*L1**2*M1 + L1**2*M2)), -L1*L2*M2*theta2_dot*(-I2 - 0.5*L1*L2*M2*cos(theta2) - 0.25*L2**2*M2)*sin(theta2)/(-0.25*L1**2*L2**2*M2**2*cos(theta2)**2 + (I2 + 0.25*L2**2*M2)*(I1 + 0.25*L1**2*M1 + L1**2*M2)) - 1.0*L1*theta1_dot*(I1 + I2 + 0.25*L1**2*M1 + L1**2*M2 + 1.0*L1*L2*M2*cos(theta2) + 0.25*L2**2*M2)*sin(theta2)/(-0.25*L1**2*L2**2*M2**2*cos(theta2)**2 + (I2 + 0.25*L2**2*M2)*(I1 + 0.25*L1**2*M1 + L1**2*M2)), (-L1*L2*M2*theta1_dot*sin(theta2) + 1.0*L1*L2*M2*theta2_dot*sin(theta2))*(-I2 - 0.5*L1*L2*M2*cos(theta2) - 0.25*L2**2*M2)/(-0.25*L1**2*L2**2*M2**2*cos(theta2)**2 + (I2 + 0.25*L2**2*M2)*(I1 + 0.25*L1**2*M1 + L1**2*M2))]])"
      ]
     },
     "execution_count": 28,
     "metadata": {},
     "output_type": "execute_result"
    }
   ],
   "source": [
    "jacobian_ddot_theta"
   ]
  },
  {
   "cell_type": "code",
   "execution_count": 30,
   "metadata": {},
   "outputs": [
    {
     "name": "stdout",
     "output_type": "stream",
     "text": [
      "⎡-221.718850794638  -115.515512609623  0  0⎤\n",
      "⎢                                          ⎥\n",
      "⎣704.217510196917   379.246622182072   0  0⎦\n"
     ]
    }
   ],
   "source": [
    "import sympy as sp\n",
    "\n",
    "# パラメータ設定\n",
    "L0 = 0.158\n",
    "L1_val = 0.78\n",
    "L2_val = 0.73\n",
    "M1_val = 11.41\n",
    "M2_val = 50.14\n",
    "I1_val = 0.35\n",
    "I2_val = 0.25\n",
    "g_val = 9.8\n",
    "x = [0.0876, 0, 0, 0]  # 初期状態\n",
    "\n",
    "# αの定義\n",
    "alpha1_sym = sp.symbols('alpha1')\n",
    "alpha2_sym = sp.symbols('alpha2')\n",
    "alpha3_sym = sp.symbols('alpha3') * sp.cos(sp.symbols('theta2'))\n",
    "alpha4_sym = sp.symbols('alpha4')\n",
    "alpha5_sym, alpha6_sym, alpha7_sym, alpha8_sym, alpha9_sym, alpha10_sym = sp.symbols('alpha5 alpha6 alpha7 alpha8 alpha9 alpha10')\n",
    "\n",
    "# シンボリック変数の定義\n",
    "theta1, theta2 = sp.symbols('theta1 theta2')  # 角度\n",
    "theta1_dot, theta2_dot = sp.symbols('theta1_dot theta2_dot')  # 角速度\n",
    "u1, u2 = sp.symbols('u1 u2')  # 入力トルク\n",
    "\n",
    "# 状態ベクトル\n",
    "state = sp.Matrix([theta1, theta2, theta1_dot, theta2_dot])\n",
    "u = sp.Matrix([u1, u2])\n",
    "\n",
    "# 質量行列の逆行列計算\n",
    "det_M = alpha2_sym * (alpha1_sym + alpha4_sym) - alpha3_sym**2\n",
    "M_inv = sp.Matrix([\n",
    "    [alpha2_sym / det_M, -(alpha2_sym + alpha3_sym) / det_M],\n",
    "    [-(alpha2_sym + alpha3_sym) / det_M, (alpha1_sym + alpha2_sym + 2 * alpha3_sym + alpha4_sym) / det_M]\n",
    "])\n",
    "\n",
    "# f_1とf_2の計算\n",
    "f_1 = (\n",
    "    u1 + alpha5_sym * sp.sin(theta2) * theta2_dot**2 -\n",
    "    alpha6_sym * sp.sin(theta2) * theta1_dot * theta2_dot +\n",
    "    alpha7_sym * sp.sin(theta1 + theta2) - alpha8_sym * sp.sin(theta1)\n",
    ")\n",
    "\n",
    "f_2 = (\n",
    "    u2 - alpha9_sym * theta1_dot**2 * sp.sin(theta2) +\n",
    "    alpha10_sym * sp.sin(theta1 + theta2)\n",
    ")\n",
    "\n",
    "f = sp.Matrix([f_1, f_2])\n",
    "\n",
    "# 加速度の計算\n",
    "ddot_theta = M_inv * f\n",
    "\n",
    "# ヤコビアンの計算\n",
    "jacobian_ddot_theta_simplified = ddot_theta.jacobian(state)\n",
    "\n",
    "# αの数値計算\n",
    "alpha1_val = 1/4 * L1_val**2 * M1_val + I1_val\n",
    "alpha2_val = 1/4 * L2_val**2 * M2_val + I2_val\n",
    "alpha3_val = 1/2 * L1_val * L2_val * M2_val * sp.cos(0.0)  # 初期状態のtheta2を代入\n",
    "alpha4_val = L1_val**2 * M2_val\n",
    "alpha5_val = 1/2 * L1_val * L2_val * M2_val\n",
    "alpha6_val = L1_val * L2_val * M2_val\n",
    "alpha7_val = 1/2 * L2_val * M2_val * g_val\n",
    "alpha8_val = 1/2 * g_val * L1_val * (2 * M2_val - M1_val)\n",
    "alpha9_val = 1/2 * L1_val\n",
    "alpha10_val = 1/2 * L2_val * M2_val * g_val\n",
    "\n",
    "# 数値代入辞書\n",
    "values = {\n",
    "    alpha1_sym: alpha1_val,\n",
    "    alpha2_sym: alpha2_val,\n",
    "    alpha3_sym: alpha3_val,\n",
    "    alpha4_sym: alpha4_val,\n",
    "    alpha5_sym: alpha5_val,\n",
    "    alpha6_sym: alpha6_val,\n",
    "    alpha7_sym: alpha7_val,\n",
    "    alpha8_sym: alpha8_val,\n",
    "    alpha9_sym: alpha9_val,\n",
    "    alpha10_sym: alpha10_val,\n",
    "    theta1: x[0],\n",
    "    theta2: x[1],\n",
    "    theta1_dot: x[2],\n",
    "    theta2_dot: x[3],\n",
    "    u1: 0.0,\n",
    "    u2: 0.0\n",
    "}\n",
    "\n",
    "# 数値代入と評価\n",
    "jacobian_ddot_theta_numeric_simplified = jacobian_ddot_theta_simplified.subs(values).evalf()\n",
    "\n",
    "# 結果表示\n",
    "sp.pprint(jacobian_ddot_theta_numeric_simplified)\n"
   ]
  },
  {
   "cell_type": "code",
   "execution_count": 33,
   "metadata": {},
   "outputs": [
    {
     "data": {
      "text/latex": [
       "$\\displaystyle \\left[\\begin{matrix}\\frac{\\alpha_{10} \\left(- \\alpha_{2} - \\alpha_{3} \\cos{\\left(\\theta_{2} \\right)}\\right) \\cos{\\left(\\theta_{1} + \\theta_{2} \\right)}}{\\alpha_{2} \\left(\\alpha_{1} + \\alpha_{4}\\right) - \\alpha_{3}^{2} \\cos^{2}{\\left(\\theta_{2} \\right)}} + \\frac{\\alpha_{2} \\left(\\alpha_{7} \\cos{\\left(\\theta_{1} + \\theta_{2} \\right)} - \\alpha_{8} \\cos{\\left(\\theta_{1} \\right)}\\right)}{\\alpha_{2} \\left(\\alpha_{1} + \\alpha_{4}\\right) - \\alpha_{3}^{2} \\cos^{2}{\\left(\\theta_{2} \\right)}} & - \\frac{2 \\alpha_{2} \\alpha_{3}^{2} \\left(\\alpha_{5} \\theta_{2 dot}^{2} \\sin{\\left(\\theta_{2} \\right)} - \\alpha_{6} \\theta_{1 dot} \\theta_{2 dot} \\sin{\\left(\\theta_{2} \\right)} + \\alpha_{7} \\sin{\\left(\\theta_{1} + \\theta_{2} \\right)} - \\alpha_{8} \\sin{\\left(\\theta_{1} \\right)} + u_{1}\\right) \\sin{\\left(\\theta_{2} \\right)} \\cos{\\left(\\theta_{2} \\right)}}{\\left(\\alpha_{2} \\left(\\alpha_{1} + \\alpha_{4}\\right) - \\alpha_{3}^{2} \\cos^{2}{\\left(\\theta_{2} \\right)}\\right)^{2}} + \\frac{\\alpha_{2} \\left(\\alpha_{5} \\theta_{2 dot}^{2} \\cos{\\left(\\theta_{2} \\right)} - \\alpha_{6} \\theta_{1 dot} \\theta_{2 dot} \\cos{\\left(\\theta_{2} \\right)} + \\alpha_{7} \\cos{\\left(\\theta_{1} + \\theta_{2} \\right)}\\right)}{\\alpha_{2} \\left(\\alpha_{1} + \\alpha_{4}\\right) - \\alpha_{3}^{2} \\cos^{2}{\\left(\\theta_{2} \\right)}} - \\frac{2 \\alpha_{3}^{2} \\left(- \\alpha_{2} - \\alpha_{3} \\cos{\\left(\\theta_{2} \\right)}\\right) \\left(\\alpha_{10} \\sin{\\left(\\theta_{1} + \\theta_{2} \\right)} - \\alpha_{9} \\theta_{1 dot}^{2} \\sin{\\left(\\theta_{2} \\right)} + u_{2}\\right) \\sin{\\left(\\theta_{2} \\right)} \\cos{\\left(\\theta_{2} \\right)}}{\\left(\\alpha_{2} \\left(\\alpha_{1} + \\alpha_{4}\\right) - \\alpha_{3}^{2} \\cos^{2}{\\left(\\theta_{2} \\right)}\\right)^{2}} + \\frac{\\alpha_{3} \\left(\\alpha_{10} \\sin{\\left(\\theta_{1} + \\theta_{2} \\right)} - \\alpha_{9} \\theta_{1 dot}^{2} \\sin{\\left(\\theta_{2} \\right)} + u_{2}\\right) \\sin{\\left(\\theta_{2} \\right)}}{\\alpha_{2} \\left(\\alpha_{1} + \\alpha_{4}\\right) - \\alpha_{3}^{2} \\cos^{2}{\\left(\\theta_{2} \\right)}} + \\frac{\\left(- \\alpha_{2} - \\alpha_{3} \\cos{\\left(\\theta_{2} \\right)}\\right) \\left(\\alpha_{10} \\cos{\\left(\\theta_{1} + \\theta_{2} \\right)} - \\alpha_{9} \\theta_{1 dot}^{2} \\cos{\\left(\\theta_{2} \\right)}\\right)}{\\alpha_{2} \\left(\\alpha_{1} + \\alpha_{4}\\right) - \\alpha_{3}^{2} \\cos^{2}{\\left(\\theta_{2} \\right)}} & - \\frac{\\alpha_{2} \\alpha_{6} \\theta_{2 dot} \\sin{\\left(\\theta_{2} \\right)}}{\\alpha_{2} \\left(\\alpha_{1} + \\alpha_{4}\\right) - \\alpha_{3}^{2} \\cos^{2}{\\left(\\theta_{2} \\right)}} - \\frac{2 \\alpha_{9} \\theta_{1 dot} \\left(- \\alpha_{2} - \\alpha_{3} \\cos{\\left(\\theta_{2} \\right)}\\right) \\sin{\\left(\\theta_{2} \\right)}}{\\alpha_{2} \\left(\\alpha_{1} + \\alpha_{4}\\right) - \\alpha_{3}^{2} \\cos^{2}{\\left(\\theta_{2} \\right)}} & \\frac{\\alpha_{2} \\cdot \\left(2 \\alpha_{5} \\theta_{2 dot} \\sin{\\left(\\theta_{2} \\right)} - \\alpha_{6} \\theta_{1 dot} \\sin{\\left(\\theta_{2} \\right)}\\right)}{\\alpha_{2} \\left(\\alpha_{1} + \\alpha_{4}\\right) - \\alpha_{3}^{2} \\cos^{2}{\\left(\\theta_{2} \\right)}}\\\\\\frac{\\alpha_{10} \\left(\\alpha_{1} + \\alpha_{2} + 2 \\alpha_{3} \\cos{\\left(\\theta_{2} \\right)} + \\alpha_{4}\\right) \\cos{\\left(\\theta_{1} + \\theta_{2} \\right)}}{\\alpha_{2} \\left(\\alpha_{1} + \\alpha_{4}\\right) - \\alpha_{3}^{2} \\cos^{2}{\\left(\\theta_{2} \\right)}} + \\frac{\\left(- \\alpha_{2} - \\alpha_{3} \\cos{\\left(\\theta_{2} \\right)}\\right) \\left(\\alpha_{7} \\cos{\\left(\\theta_{1} + \\theta_{2} \\right)} - \\alpha_{8} \\cos{\\left(\\theta_{1} \\right)}\\right)}{\\alpha_{2} \\left(\\alpha_{1} + \\alpha_{4}\\right) - \\alpha_{3}^{2} \\cos^{2}{\\left(\\theta_{2} \\right)}} & - \\frac{2 \\alpha_{3}^{2} \\left(- \\alpha_{2} - \\alpha_{3} \\cos{\\left(\\theta_{2} \\right)}\\right) \\left(\\alpha_{5} \\theta_{2 dot}^{2} \\sin{\\left(\\theta_{2} \\right)} - \\alpha_{6} \\theta_{1 dot} \\theta_{2 dot} \\sin{\\left(\\theta_{2} \\right)} + \\alpha_{7} \\sin{\\left(\\theta_{1} + \\theta_{2} \\right)} - \\alpha_{8} \\sin{\\left(\\theta_{1} \\right)} + u_{1}\\right) \\sin{\\left(\\theta_{2} \\right)} \\cos{\\left(\\theta_{2} \\right)}}{\\left(\\alpha_{2} \\left(\\alpha_{1} + \\alpha_{4}\\right) - \\alpha_{3}^{2} \\cos^{2}{\\left(\\theta_{2} \\right)}\\right)^{2}} - \\frac{2 \\alpha_{3}^{2} \\left(\\alpha_{10} \\sin{\\left(\\theta_{1} + \\theta_{2} \\right)} - \\alpha_{9} \\theta_{1 dot}^{2} \\sin{\\left(\\theta_{2} \\right)} + u_{2}\\right) \\left(\\alpha_{1} + \\alpha_{2} + 2 \\alpha_{3} \\cos{\\left(\\theta_{2} \\right)} + \\alpha_{4}\\right) \\sin{\\left(\\theta_{2} \\right)} \\cos{\\left(\\theta_{2} \\right)}}{\\left(\\alpha_{2} \\left(\\alpha_{1} + \\alpha_{4}\\right) - \\alpha_{3}^{2} \\cos^{2}{\\left(\\theta_{2} \\right)}\\right)^{2}} - \\frac{2 \\alpha_{3} \\left(\\alpha_{10} \\sin{\\left(\\theta_{1} + \\theta_{2} \\right)} - \\alpha_{9} \\theta_{1 dot}^{2} \\sin{\\left(\\theta_{2} \\right)} + u_{2}\\right) \\sin{\\left(\\theta_{2} \\right)}}{\\alpha_{2} \\left(\\alpha_{1} + \\alpha_{4}\\right) - \\alpha_{3}^{2} \\cos^{2}{\\left(\\theta_{2} \\right)}} + \\frac{\\alpha_{3} \\left(\\alpha_{5} \\theta_{2 dot}^{2} \\sin{\\left(\\theta_{2} \\right)} - \\alpha_{6} \\theta_{1 dot} \\theta_{2 dot} \\sin{\\left(\\theta_{2} \\right)} + \\alpha_{7} \\sin{\\left(\\theta_{1} + \\theta_{2} \\right)} - \\alpha_{8} \\sin{\\left(\\theta_{1} \\right)} + u_{1}\\right) \\sin{\\left(\\theta_{2} \\right)}}{\\alpha_{2} \\left(\\alpha_{1} + \\alpha_{4}\\right) - \\alpha_{3}^{2} \\cos^{2}{\\left(\\theta_{2} \\right)}} + \\frac{\\left(- \\alpha_{2} - \\alpha_{3} \\cos{\\left(\\theta_{2} \\right)}\\right) \\left(\\alpha_{5} \\theta_{2 dot}^{2} \\cos{\\left(\\theta_{2} \\right)} - \\alpha_{6} \\theta_{1 dot} \\theta_{2 dot} \\cos{\\left(\\theta_{2} \\right)} + \\alpha_{7} \\cos{\\left(\\theta_{1} + \\theta_{2} \\right)}\\right)}{\\alpha_{2} \\left(\\alpha_{1} + \\alpha_{4}\\right) - \\alpha_{3}^{2} \\cos^{2}{\\left(\\theta_{2} \\right)}} + \\frac{\\left(\\alpha_{10} \\cos{\\left(\\theta_{1} + \\theta_{2} \\right)} - \\alpha_{9} \\theta_{1 dot}^{2} \\cos{\\left(\\theta_{2} \\right)}\\right) \\left(\\alpha_{1} + \\alpha_{2} + 2 \\alpha_{3} \\cos{\\left(\\theta_{2} \\right)} + \\alpha_{4}\\right)}{\\alpha_{2} \\left(\\alpha_{1} + \\alpha_{4}\\right) - \\alpha_{3}^{2} \\cos^{2}{\\left(\\theta_{2} \\right)}} & - \\frac{\\alpha_{6} \\theta_{2 dot} \\left(- \\alpha_{2} - \\alpha_{3} \\cos{\\left(\\theta_{2} \\right)}\\right) \\sin{\\left(\\theta_{2} \\right)}}{\\alpha_{2} \\left(\\alpha_{1} + \\alpha_{4}\\right) - \\alpha_{3}^{2} \\cos^{2}{\\left(\\theta_{2} \\right)}} - \\frac{2 \\alpha_{9} \\theta_{1 dot} \\left(\\alpha_{1} + \\alpha_{2} + 2 \\alpha_{3} \\cos{\\left(\\theta_{2} \\right)} + \\alpha_{4}\\right) \\sin{\\left(\\theta_{2} \\right)}}{\\alpha_{2} \\left(\\alpha_{1} + \\alpha_{4}\\right) - \\alpha_{3}^{2} \\cos^{2}{\\left(\\theta_{2} \\right)}} & \\frac{\\left(- \\alpha_{2} - \\alpha_{3} \\cos{\\left(\\theta_{2} \\right)}\\right) \\left(2 \\alpha_{5} \\theta_{2 dot} \\sin{\\left(\\theta_{2} \\right)} - \\alpha_{6} \\theta_{1 dot} \\sin{\\left(\\theta_{2} \\right)}\\right)}{\\alpha_{2} \\left(\\alpha_{1} + \\alpha_{4}\\right) - \\alpha_{3}^{2} \\cos^{2}{\\left(\\theta_{2} \\right)}}\\end{matrix}\\right]$"
      ],
      "text/plain": [
       "Matrix([\n",
       "[                                           alpha10*(-alpha2 - alpha3*cos(theta2))*cos(theta1 + theta2)/(alpha2*(alpha1 + alpha4) - alpha3**2*cos(theta2)**2) + alpha2*(alpha7*cos(theta1 + theta2) - alpha8*cos(theta1))/(alpha2*(alpha1 + alpha4) - alpha3**2*cos(theta2)**2),                                                                                                                                                                                                                                                                                                          -2*alpha2*alpha3**2*(alpha5*theta2_dot**2*sin(theta2) - alpha6*theta1_dot*theta2_dot*sin(theta2) + alpha7*sin(theta1 + theta2) - alpha8*sin(theta1) + u1)*sin(theta2)*cos(theta2)/(alpha2*(alpha1 + alpha4) - alpha3**2*cos(theta2)**2)**2 + alpha2*(alpha5*theta2_dot**2*cos(theta2) - alpha6*theta1_dot*theta2_dot*cos(theta2) + alpha7*cos(theta1 + theta2))/(alpha2*(alpha1 + alpha4) - alpha3**2*cos(theta2)**2) - 2*alpha3**2*(-alpha2 - alpha3*cos(theta2))*(alpha10*sin(theta1 + theta2) - alpha9*theta1_dot**2*sin(theta2) + u2)*sin(theta2)*cos(theta2)/(alpha2*(alpha1 + alpha4) - alpha3**2*cos(theta2)**2)**2 + alpha3*(alpha10*sin(theta1 + theta2) - alpha9*theta1_dot**2*sin(theta2) + u2)*sin(theta2)/(alpha2*(alpha1 + alpha4) - alpha3**2*cos(theta2)**2) + (-alpha2 - alpha3*cos(theta2))*(alpha10*cos(theta1 + theta2) - alpha9*theta1_dot**2*cos(theta2))/(alpha2*(alpha1 + alpha4) - alpha3**2*cos(theta2)**2),                                            -alpha2*alpha6*theta2_dot*sin(theta2)/(alpha2*(alpha1 + alpha4) - alpha3**2*cos(theta2)**2) - 2*alpha9*theta1_dot*(-alpha2 - alpha3*cos(theta2))*sin(theta2)/(alpha2*(alpha1 + alpha4) - alpha3**2*cos(theta2)**2),                         alpha2*(2*alpha5*theta2_dot*sin(theta2) - alpha6*theta1_dot*sin(theta2))/(alpha2*(alpha1 + alpha4) - alpha3**2*cos(theta2)**2)],\n",
       "[alpha10*(alpha1 + alpha2 + 2*alpha3*cos(theta2) + alpha4)*cos(theta1 + theta2)/(alpha2*(alpha1 + alpha4) - alpha3**2*cos(theta2)**2) + (-alpha2 - alpha3*cos(theta2))*(alpha7*cos(theta1 + theta2) - alpha8*cos(theta1))/(alpha2*(alpha1 + alpha4) - alpha3**2*cos(theta2)**2), -2*alpha3**2*(-alpha2 - alpha3*cos(theta2))*(alpha5*theta2_dot**2*sin(theta2) - alpha6*theta1_dot*theta2_dot*sin(theta2) + alpha7*sin(theta1 + theta2) - alpha8*sin(theta1) + u1)*sin(theta2)*cos(theta2)/(alpha2*(alpha1 + alpha4) - alpha3**2*cos(theta2)**2)**2 - 2*alpha3**2*(alpha10*sin(theta1 + theta2) - alpha9*theta1_dot**2*sin(theta2) + u2)*(alpha1 + alpha2 + 2*alpha3*cos(theta2) + alpha4)*sin(theta2)*cos(theta2)/(alpha2*(alpha1 + alpha4) - alpha3**2*cos(theta2)**2)**2 - 2*alpha3*(alpha10*sin(theta1 + theta2) - alpha9*theta1_dot**2*sin(theta2) + u2)*sin(theta2)/(alpha2*(alpha1 + alpha4) - alpha3**2*cos(theta2)**2) + alpha3*(alpha5*theta2_dot**2*sin(theta2) - alpha6*theta1_dot*theta2_dot*sin(theta2) + alpha7*sin(theta1 + theta2) - alpha8*sin(theta1) + u1)*sin(theta2)/(alpha2*(alpha1 + alpha4) - alpha3**2*cos(theta2)**2) + (-alpha2 - alpha3*cos(theta2))*(alpha5*theta2_dot**2*cos(theta2) - alpha6*theta1_dot*theta2_dot*cos(theta2) + alpha7*cos(theta1 + theta2))/(alpha2*(alpha1 + alpha4) - alpha3**2*cos(theta2)**2) + (alpha10*cos(theta1 + theta2) - alpha9*theta1_dot**2*cos(theta2))*(alpha1 + alpha2 + 2*alpha3*cos(theta2) + alpha4)/(alpha2*(alpha1 + alpha4) - alpha3**2*cos(theta2)**2), -alpha6*theta2_dot*(-alpha2 - alpha3*cos(theta2))*sin(theta2)/(alpha2*(alpha1 + alpha4) - alpha3**2*cos(theta2)**2) - 2*alpha9*theta1_dot*(alpha1 + alpha2 + 2*alpha3*cos(theta2) + alpha4)*sin(theta2)/(alpha2*(alpha1 + alpha4) - alpha3**2*cos(theta2)**2), (-alpha2 - alpha3*cos(theta2))*(2*alpha5*theta2_dot*sin(theta2) - alpha6*theta1_dot*sin(theta2))/(alpha2*(alpha1 + alpha4) - alpha3**2*cos(theta2)**2)]])"
      ]
     },
     "execution_count": 33,
     "metadata": {},
     "output_type": "execute_result"
    }
   ],
   "source": [
    "jacobian_ddot_theta_simplified"
   ]
  },
  {
   "cell_type": "code",
   "execution_count": 31,
   "metadata": {},
   "outputs": [
    {
     "data": {
      "text/latex": [
       "$\\displaystyle \\left[\\begin{matrix}\\frac{0.5 G L_{2} M_{2} \\left(- I_{2} - 0.5 L_{1} L_{2} M_{2} \\cos{\\left(\\theta_{2} \\right)} - 0.25 L_{2}^{2} M_{2}\\right) \\cos{\\left(\\theta_{1} + \\theta_{2} \\right)}}{- 0.25 L_{1}^{2} L_{2}^{2} M_{2}^{2} \\cos^{2}{\\left(\\theta_{2} \\right)} + \\left(I_{2} + 0.25 L_{2}^{2} M_{2}\\right) \\left(I_{1} + 0.25 L_{1}^{2} M_{1} + L_{1}^{2} M_{2}\\right)} + \\frac{\\left(I_{2} + 0.25 L_{2}^{2} M_{2}\\right) \\left(0.5 G L_{1} M_{1} \\cos{\\left(\\theta_{1} \\right)} - G L_{1} M_{2} \\cos{\\left(\\theta_{1} \\right)} + 0.5 G L_{2} M_{2} \\cos{\\left(\\theta_{1} + \\theta_{2} \\right)}\\right)}{- 0.25 L_{1}^{2} L_{2}^{2} M_{2}^{2} \\cos^{2}{\\left(\\theta_{2} \\right)} + \\left(I_{2} + 0.25 L_{2}^{2} M_{2}\\right) \\left(I_{1} + 0.25 L_{1}^{2} M_{1} + L_{1}^{2} M_{2}\\right)} & - \\frac{0.5 L_{1}^{2} L_{2}^{2} M_{2}^{2} \\left(I_{2} + 0.25 L_{2}^{2} M_{2}\\right) \\left(0.5 G L_{1} M_{1} \\sin{\\left(\\theta_{1} \\right)} - G L_{1} M_{2} \\sin{\\left(\\theta_{1} \\right)} + 0.5 G L_{2} M_{2} \\sin{\\left(\\theta_{1} + \\theta_{2} \\right)} - L_{1} L_{2} M_{2} \\theta_{1 dot} \\theta_{2 dot} \\sin{\\left(\\theta_{2} \\right)} + 0.5 L_{1} L_{2} M_{2} \\theta_{2 dot}^{2} \\sin{\\left(\\theta_{2} \\right)} + u_{1}\\right) \\sin{\\left(\\theta_{2} \\right)} \\cos{\\left(\\theta_{2} \\right)}}{\\left(- 0.25 L_{1}^{2} L_{2}^{2} M_{2}^{2} \\cos^{2}{\\left(\\theta_{2} \\right)} + \\left(I_{2} + 0.25 L_{2}^{2} M_{2}\\right) \\left(I_{1} + 0.25 L_{1}^{2} M_{1} + L_{1}^{2} M_{2}\\right)\\right)^{2}} - \\frac{0.5 L_{1}^{2} L_{2}^{2} M_{2}^{2} \\left(- I_{2} - 0.5 L_{1} L_{2} M_{2} \\cos{\\left(\\theta_{2} \\right)} - 0.25 L_{2}^{2} M_{2}\\right) \\left(0.5 G L_{2} M_{2} \\sin{\\left(\\theta_{1} + \\theta_{2} \\right)} - 0.5 L_{1} \\theta_{1 dot}^{2} \\sin{\\left(\\theta_{2} \\right)} + u_{2}\\right) \\sin{\\left(\\theta_{2} \\right)} \\cos{\\left(\\theta_{2} \\right)}}{\\left(- 0.25 L_{1}^{2} L_{2}^{2} M_{2}^{2} \\cos^{2}{\\left(\\theta_{2} \\right)} + \\left(I_{2} + 0.25 L_{2}^{2} M_{2}\\right) \\left(I_{1} + 0.25 L_{1}^{2} M_{1} + L_{1}^{2} M_{2}\\right)\\right)^{2}} + \\frac{0.5 L_{1} L_{2} M_{2} \\cdot \\left(0.5 G L_{2} M_{2} \\sin{\\left(\\theta_{1} + \\theta_{2} \\right)} - 0.5 L_{1} \\theta_{1 dot}^{2} \\sin{\\left(\\theta_{2} \\right)} + u_{2}\\right) \\sin{\\left(\\theta_{2} \\right)}}{- 0.25 L_{1}^{2} L_{2}^{2} M_{2}^{2} \\cos^{2}{\\left(\\theta_{2} \\right)} + \\left(I_{2} + 0.25 L_{2}^{2} M_{2}\\right) \\left(I_{1} + 0.25 L_{1}^{2} M_{1} + L_{1}^{2} M_{2}\\right)} + \\frac{\\left(I_{2} + 0.25 L_{2}^{2} M_{2}\\right) \\left(0.5 G L_{2} M_{2} \\cos{\\left(\\theta_{1} + \\theta_{2} \\right)} - L_{1} L_{2} M_{2} \\theta_{1 dot} \\theta_{2 dot} \\cos{\\left(\\theta_{2} \\right)} + 0.5 L_{1} L_{2} M_{2} \\theta_{2 dot}^{2} \\cos{\\left(\\theta_{2} \\right)}\\right)}{- 0.25 L_{1}^{2} L_{2}^{2} M_{2}^{2} \\cos^{2}{\\left(\\theta_{2} \\right)} + \\left(I_{2} + 0.25 L_{2}^{2} M_{2}\\right) \\left(I_{1} + 0.25 L_{1}^{2} M_{1} + L_{1}^{2} M_{2}\\right)} + \\frac{\\left(0.5 G L_{2} M_{2} \\cos{\\left(\\theta_{1} + \\theta_{2} \\right)} - 0.5 L_{1} \\theta_{1 dot}^{2} \\cos{\\left(\\theta_{2} \\right)}\\right) \\left(- I_{2} - 0.5 L_{1} L_{2} M_{2} \\cos{\\left(\\theta_{2} \\right)} - 0.25 L_{2}^{2} M_{2}\\right)}{- 0.25 L_{1}^{2} L_{2}^{2} M_{2}^{2} \\cos^{2}{\\left(\\theta_{2} \\right)} + \\left(I_{2} + 0.25 L_{2}^{2} M_{2}\\right) \\left(I_{1} + 0.25 L_{1}^{2} M_{1} + L_{1}^{2} M_{2}\\right)} & - \\frac{L_{1} L_{2} M_{2} \\theta_{2 dot} \\left(I_{2} + 0.25 L_{2}^{2} M_{2}\\right) \\sin{\\left(\\theta_{2} \\right)}}{- 0.25 L_{1}^{2} L_{2}^{2} M_{2}^{2} \\cos^{2}{\\left(\\theta_{2} \\right)} + \\left(I_{2} + 0.25 L_{2}^{2} M_{2}\\right) \\left(I_{1} + 0.25 L_{1}^{2} M_{1} + L_{1}^{2} M_{2}\\right)} - \\frac{1.0 L_{1} \\theta_{1 dot} \\left(- I_{2} - 0.5 L_{1} L_{2} M_{2} \\cos{\\left(\\theta_{2} \\right)} - 0.25 L_{2}^{2} M_{2}\\right) \\sin{\\left(\\theta_{2} \\right)}}{- 0.25 L_{1}^{2} L_{2}^{2} M_{2}^{2} \\cos^{2}{\\left(\\theta_{2} \\right)} + \\left(I_{2} + 0.25 L_{2}^{2} M_{2}\\right) \\left(I_{1} + 0.25 L_{1}^{2} M_{1} + L_{1}^{2} M_{2}\\right)} & \\frac{\\left(I_{2} + 0.25 L_{2}^{2} M_{2}\\right) \\left(- L_{1} L_{2} M_{2} \\theta_{1 dot} \\sin{\\left(\\theta_{2} \\right)} + 1.0 L_{1} L_{2} M_{2} \\theta_{2 dot} \\sin{\\left(\\theta_{2} \\right)}\\right)}{- 0.25 L_{1}^{2} L_{2}^{2} M_{2}^{2} \\cos^{2}{\\left(\\theta_{2} \\right)} + \\left(I_{2} + 0.25 L_{2}^{2} M_{2}\\right) \\left(I_{1} + 0.25 L_{1}^{2} M_{1} + L_{1}^{2} M_{2}\\right)}\\\\\\frac{0.5 G L_{2} M_{2} \\left(I_{1} + I_{2} + 0.25 L_{1}^{2} M_{1} + L_{1}^{2} M_{2} + 1.0 L_{1} L_{2} M_{2} \\cos{\\left(\\theta_{2} \\right)} + 0.25 L_{2}^{2} M_{2}\\right) \\cos{\\left(\\theta_{1} + \\theta_{2} \\right)}}{- 0.25 L_{1}^{2} L_{2}^{2} M_{2}^{2} \\cos^{2}{\\left(\\theta_{2} \\right)} + \\left(I_{2} + 0.25 L_{2}^{2} M_{2}\\right) \\left(I_{1} + 0.25 L_{1}^{2} M_{1} + L_{1}^{2} M_{2}\\right)} + \\frac{\\left(- I_{2} - 0.5 L_{1} L_{2} M_{2} \\cos{\\left(\\theta_{2} \\right)} - 0.25 L_{2}^{2} M_{2}\\right) \\left(0.5 G L_{1} M_{1} \\cos{\\left(\\theta_{1} \\right)} - G L_{1} M_{2} \\cos{\\left(\\theta_{1} \\right)} + 0.5 G L_{2} M_{2} \\cos{\\left(\\theta_{1} + \\theta_{2} \\right)}\\right)}{- 0.25 L_{1}^{2} L_{2}^{2} M_{2}^{2} \\cos^{2}{\\left(\\theta_{2} \\right)} + \\left(I_{2} + 0.25 L_{2}^{2} M_{2}\\right) \\left(I_{1} + 0.25 L_{1}^{2} M_{1} + L_{1}^{2} M_{2}\\right)} & - \\frac{0.5 L_{1}^{2} L_{2}^{2} M_{2}^{2} \\left(- I_{2} - 0.5 L_{1} L_{2} M_{2} \\cos{\\left(\\theta_{2} \\right)} - 0.25 L_{2}^{2} M_{2}\\right) \\left(0.5 G L_{1} M_{1} \\sin{\\left(\\theta_{1} \\right)} - G L_{1} M_{2} \\sin{\\left(\\theta_{1} \\right)} + 0.5 G L_{2} M_{2} \\sin{\\left(\\theta_{1} + \\theta_{2} \\right)} - L_{1} L_{2} M_{2} \\theta_{1 dot} \\theta_{2 dot} \\sin{\\left(\\theta_{2} \\right)} + 0.5 L_{1} L_{2} M_{2} \\theta_{2 dot}^{2} \\sin{\\left(\\theta_{2} \\right)} + u_{1}\\right) \\sin{\\left(\\theta_{2} \\right)} \\cos{\\left(\\theta_{2} \\right)}}{\\left(- 0.25 L_{1}^{2} L_{2}^{2} M_{2}^{2} \\cos^{2}{\\left(\\theta_{2} \\right)} + \\left(I_{2} + 0.25 L_{2}^{2} M_{2}\\right) \\left(I_{1} + 0.25 L_{1}^{2} M_{1} + L_{1}^{2} M_{2}\\right)\\right)^{2}} - \\frac{0.5 L_{1}^{2} L_{2}^{2} M_{2}^{2} \\cdot \\left(0.5 G L_{2} M_{2} \\sin{\\left(\\theta_{1} + \\theta_{2} \\right)} - 0.5 L_{1} \\theta_{1 dot}^{2} \\sin{\\left(\\theta_{2} \\right)} + u_{2}\\right) \\left(I_{1} + I_{2} + 0.25 L_{1}^{2} M_{1} + L_{1}^{2} M_{2} + 1.0 L_{1} L_{2} M_{2} \\cos{\\left(\\theta_{2} \\right)} + 0.25 L_{2}^{2} M_{2}\\right) \\sin{\\left(\\theta_{2} \\right)} \\cos{\\left(\\theta_{2} \\right)}}{\\left(- 0.25 L_{1}^{2} L_{2}^{2} M_{2}^{2} \\cos^{2}{\\left(\\theta_{2} \\right)} + \\left(I_{2} + 0.25 L_{2}^{2} M_{2}\\right) \\left(I_{1} + 0.25 L_{1}^{2} M_{1} + L_{1}^{2} M_{2}\\right)\\right)^{2}} - \\frac{1.0 L_{1} L_{2} M_{2} \\cdot \\left(0.5 G L_{2} M_{2} \\sin{\\left(\\theta_{1} + \\theta_{2} \\right)} - 0.5 L_{1} \\theta_{1 dot}^{2} \\sin{\\left(\\theta_{2} \\right)} + u_{2}\\right) \\sin{\\left(\\theta_{2} \\right)}}{- 0.25 L_{1}^{2} L_{2}^{2} M_{2}^{2} \\cos^{2}{\\left(\\theta_{2} \\right)} + \\left(I_{2} + 0.25 L_{2}^{2} M_{2}\\right) \\left(I_{1} + 0.25 L_{1}^{2} M_{1} + L_{1}^{2} M_{2}\\right)} + \\frac{0.5 L_{1} L_{2} M_{2} \\cdot \\left(0.5 G L_{1} M_{1} \\sin{\\left(\\theta_{1} \\right)} - G L_{1} M_{2} \\sin{\\left(\\theta_{1} \\right)} + 0.5 G L_{2} M_{2} \\sin{\\left(\\theta_{1} + \\theta_{2} \\right)} - L_{1} L_{2} M_{2} \\theta_{1 dot} \\theta_{2 dot} \\sin{\\left(\\theta_{2} \\right)} + 0.5 L_{1} L_{2} M_{2} \\theta_{2 dot}^{2} \\sin{\\left(\\theta_{2} \\right)} + u_{1}\\right) \\sin{\\left(\\theta_{2} \\right)}}{- 0.25 L_{1}^{2} L_{2}^{2} M_{2}^{2} \\cos^{2}{\\left(\\theta_{2} \\right)} + \\left(I_{2} + 0.25 L_{2}^{2} M_{2}\\right) \\left(I_{1} + 0.25 L_{1}^{2} M_{1} + L_{1}^{2} M_{2}\\right)} + \\frac{\\left(0.5 G L_{2} M_{2} \\cos{\\left(\\theta_{1} + \\theta_{2} \\right)} - 0.5 L_{1} \\theta_{1 dot}^{2} \\cos{\\left(\\theta_{2} \\right)}\\right) \\left(I_{1} + I_{2} + 0.25 L_{1}^{2} M_{1} + L_{1}^{2} M_{2} + 1.0 L_{1} L_{2} M_{2} \\cos{\\left(\\theta_{2} \\right)} + 0.25 L_{2}^{2} M_{2}\\right)}{- 0.25 L_{1}^{2} L_{2}^{2} M_{2}^{2} \\cos^{2}{\\left(\\theta_{2} \\right)} + \\left(I_{2} + 0.25 L_{2}^{2} M_{2}\\right) \\left(I_{1} + 0.25 L_{1}^{2} M_{1} + L_{1}^{2} M_{2}\\right)} + \\frac{\\left(- I_{2} - 0.5 L_{1} L_{2} M_{2} \\cos{\\left(\\theta_{2} \\right)} - 0.25 L_{2}^{2} M_{2}\\right) \\left(0.5 G L_{2} M_{2} \\cos{\\left(\\theta_{1} + \\theta_{2} \\right)} - L_{1} L_{2} M_{2} \\theta_{1 dot} \\theta_{2 dot} \\cos{\\left(\\theta_{2} \\right)} + 0.5 L_{1} L_{2} M_{2} \\theta_{2 dot}^{2} \\cos{\\left(\\theta_{2} \\right)}\\right)}{- 0.25 L_{1}^{2} L_{2}^{2} M_{2}^{2} \\cos^{2}{\\left(\\theta_{2} \\right)} + \\left(I_{2} + 0.25 L_{2}^{2} M_{2}\\right) \\left(I_{1} + 0.25 L_{1}^{2} M_{1} + L_{1}^{2} M_{2}\\right)} & - \\frac{L_{1} L_{2} M_{2} \\theta_{2 dot} \\left(- I_{2} - 0.5 L_{1} L_{2} M_{2} \\cos{\\left(\\theta_{2} \\right)} - 0.25 L_{2}^{2} M_{2}\\right) \\sin{\\left(\\theta_{2} \\right)}}{- 0.25 L_{1}^{2} L_{2}^{2} M_{2}^{2} \\cos^{2}{\\left(\\theta_{2} \\right)} + \\left(I_{2} + 0.25 L_{2}^{2} M_{2}\\right) \\left(I_{1} + 0.25 L_{1}^{2} M_{1} + L_{1}^{2} M_{2}\\right)} - \\frac{1.0 L_{1} \\theta_{1 dot} \\left(I_{1} + I_{2} + 0.25 L_{1}^{2} M_{1} + L_{1}^{2} M_{2} + 1.0 L_{1} L_{2} M_{2} \\cos{\\left(\\theta_{2} \\right)} + 0.25 L_{2}^{2} M_{2}\\right) \\sin{\\left(\\theta_{2} \\right)}}{- 0.25 L_{1}^{2} L_{2}^{2} M_{2}^{2} \\cos^{2}{\\left(\\theta_{2} \\right)} + \\left(I_{2} + 0.25 L_{2}^{2} M_{2}\\right) \\left(I_{1} + 0.25 L_{1}^{2} M_{1} + L_{1}^{2} M_{2}\\right)} & \\frac{\\left(- L_{1} L_{2} M_{2} \\theta_{1 dot} \\sin{\\left(\\theta_{2} \\right)} + 1.0 L_{1} L_{2} M_{2} \\theta_{2 dot} \\sin{\\left(\\theta_{2} \\right)}\\right) \\left(- I_{2} - 0.5 L_{1} L_{2} M_{2} \\cos{\\left(\\theta_{2} \\right)} - 0.25 L_{2}^{2} M_{2}\\right)}{- 0.25 L_{1}^{2} L_{2}^{2} M_{2}^{2} \\cos^{2}{\\left(\\theta_{2} \\right)} + \\left(I_{2} + 0.25 L_{2}^{2} M_{2}\\right) \\left(I_{1} + 0.25 L_{1}^{2} M_{1} + L_{1}^{2} M_{2}\\right)}\\end{matrix}\\right]$"
      ],
      "text/plain": [
       "Matrix([\n",
       "[                                                           0.5*G*L2*M2*(-I2 - 0.5*L1*L2*M2*cos(theta2) - 0.25*L2**2*M2)*cos(theta1 + theta2)/(-0.25*L1**2*L2**2*M2**2*cos(theta2)**2 + (I2 + 0.25*L2**2*M2)*(I1 + 0.25*L1**2*M1 + L1**2*M2)) + (I2 + 0.25*L2**2*M2)*(0.5*G*L1*M1*cos(theta1) - G*L1*M2*cos(theta1) + 0.5*G*L2*M2*cos(theta1 + theta2))/(-0.25*L1**2*L2**2*M2**2*cos(theta2)**2 + (I2 + 0.25*L2**2*M2)*(I1 + 0.25*L1**2*M1 + L1**2*M2)),                                                                                                                                                                                                                                                                                                                                                                                                                                -0.5*L1**2*L2**2*M2**2*(I2 + 0.25*L2**2*M2)*(0.5*G*L1*M1*sin(theta1) - G*L1*M2*sin(theta1) + 0.5*G*L2*M2*sin(theta1 + theta2) - L1*L2*M2*theta1_dot*theta2_dot*sin(theta2) + 0.5*L1*L2*M2*theta2_dot**2*sin(theta2) + u1)*sin(theta2)*cos(theta2)/(-0.25*L1**2*L2**2*M2**2*cos(theta2)**2 + (I2 + 0.25*L2**2*M2)*(I1 + 0.25*L1**2*M1 + L1**2*M2))**2 - 0.5*L1**2*L2**2*M2**2*(-I2 - 0.5*L1*L2*M2*cos(theta2) - 0.25*L2**2*M2)*(0.5*G*L2*M2*sin(theta1 + theta2) - 0.5*L1*theta1_dot**2*sin(theta2) + u2)*sin(theta2)*cos(theta2)/(-0.25*L1**2*L2**2*M2**2*cos(theta2)**2 + (I2 + 0.25*L2**2*M2)*(I1 + 0.25*L1**2*M1 + L1**2*M2))**2 + 0.5*L1*L2*M2*(0.5*G*L2*M2*sin(theta1 + theta2) - 0.5*L1*theta1_dot**2*sin(theta2) + u2)*sin(theta2)/(-0.25*L1**2*L2**2*M2**2*cos(theta2)**2 + (I2 + 0.25*L2**2*M2)*(I1 + 0.25*L1**2*M1 + L1**2*M2)) + (I2 + 0.25*L2**2*M2)*(0.5*G*L2*M2*cos(theta1 + theta2) - L1*L2*M2*theta1_dot*theta2_dot*cos(theta2) + 0.5*L1*L2*M2*theta2_dot**2*cos(theta2))/(-0.25*L1**2*L2**2*M2**2*cos(theta2)**2 + (I2 + 0.25*L2**2*M2)*(I1 + 0.25*L1**2*M1 + L1**2*M2)) + (0.5*G*L2*M2*cos(theta1 + theta2) - 0.5*L1*theta1_dot**2*cos(theta2))*(-I2 - 0.5*L1*L2*M2*cos(theta2) - 0.25*L2**2*M2)/(-0.25*L1**2*L2**2*M2**2*cos(theta2)**2 + (I2 + 0.25*L2**2*M2)*(I1 + 0.25*L1**2*M1 + L1**2*M2)),                                                            -L1*L2*M2*theta2_dot*(I2 + 0.25*L2**2*M2)*sin(theta2)/(-0.25*L1**2*L2**2*M2**2*cos(theta2)**2 + (I2 + 0.25*L2**2*M2)*(I1 + 0.25*L1**2*M1 + L1**2*M2)) - 1.0*L1*theta1_dot*(-I2 - 0.5*L1*L2*M2*cos(theta2) - 0.25*L2**2*M2)*sin(theta2)/(-0.25*L1**2*L2**2*M2**2*cos(theta2)**2 + (I2 + 0.25*L2**2*M2)*(I1 + 0.25*L1**2*M1 + L1**2*M2)),                             (I2 + 0.25*L2**2*M2)*(-L1*L2*M2*theta1_dot*sin(theta2) + 1.0*L1*L2*M2*theta2_dot*sin(theta2))/(-0.25*L1**2*L2**2*M2**2*cos(theta2)**2 + (I2 + 0.25*L2**2*M2)*(I1 + 0.25*L1**2*M1 + L1**2*M2))],\n",
       "[0.5*G*L2*M2*(I1 + I2 + 0.25*L1**2*M1 + L1**2*M2 + 1.0*L1*L2*M2*cos(theta2) + 0.25*L2**2*M2)*cos(theta1 + theta2)/(-0.25*L1**2*L2**2*M2**2*cos(theta2)**2 + (I2 + 0.25*L2**2*M2)*(I1 + 0.25*L1**2*M1 + L1**2*M2)) + (-I2 - 0.5*L1*L2*M2*cos(theta2) - 0.25*L2**2*M2)*(0.5*G*L1*M1*cos(theta1) - G*L1*M2*cos(theta1) + 0.5*G*L2*M2*cos(theta1 + theta2))/(-0.25*L1**2*L2**2*M2**2*cos(theta2)**2 + (I2 + 0.25*L2**2*M2)*(I1 + 0.25*L1**2*M1 + L1**2*M2)), -0.5*L1**2*L2**2*M2**2*(-I2 - 0.5*L1*L2*M2*cos(theta2) - 0.25*L2**2*M2)*(0.5*G*L1*M1*sin(theta1) - G*L1*M2*sin(theta1) + 0.5*G*L2*M2*sin(theta1 + theta2) - L1*L2*M2*theta1_dot*theta2_dot*sin(theta2) + 0.5*L1*L2*M2*theta2_dot**2*sin(theta2) + u1)*sin(theta2)*cos(theta2)/(-0.25*L1**2*L2**2*M2**2*cos(theta2)**2 + (I2 + 0.25*L2**2*M2)*(I1 + 0.25*L1**2*M1 + L1**2*M2))**2 - 0.5*L1**2*L2**2*M2**2*(0.5*G*L2*M2*sin(theta1 + theta2) - 0.5*L1*theta1_dot**2*sin(theta2) + u2)*(I1 + I2 + 0.25*L1**2*M1 + L1**2*M2 + 1.0*L1*L2*M2*cos(theta2) + 0.25*L2**2*M2)*sin(theta2)*cos(theta2)/(-0.25*L1**2*L2**2*M2**2*cos(theta2)**2 + (I2 + 0.25*L2**2*M2)*(I1 + 0.25*L1**2*M1 + L1**2*M2))**2 - 1.0*L1*L2*M2*(0.5*G*L2*M2*sin(theta1 + theta2) - 0.5*L1*theta1_dot**2*sin(theta2) + u2)*sin(theta2)/(-0.25*L1**2*L2**2*M2**2*cos(theta2)**2 + (I2 + 0.25*L2**2*M2)*(I1 + 0.25*L1**2*M1 + L1**2*M2)) + 0.5*L1*L2*M2*(0.5*G*L1*M1*sin(theta1) - G*L1*M2*sin(theta1) + 0.5*G*L2*M2*sin(theta1 + theta2) - L1*L2*M2*theta1_dot*theta2_dot*sin(theta2) + 0.5*L1*L2*M2*theta2_dot**2*sin(theta2) + u1)*sin(theta2)/(-0.25*L1**2*L2**2*M2**2*cos(theta2)**2 + (I2 + 0.25*L2**2*M2)*(I1 + 0.25*L1**2*M1 + L1**2*M2)) + (0.5*G*L2*M2*cos(theta1 + theta2) - 0.5*L1*theta1_dot**2*cos(theta2))*(I1 + I2 + 0.25*L1**2*M1 + L1**2*M2 + 1.0*L1*L2*M2*cos(theta2) + 0.25*L2**2*M2)/(-0.25*L1**2*L2**2*M2**2*cos(theta2)**2 + (I2 + 0.25*L2**2*M2)*(I1 + 0.25*L1**2*M1 + L1**2*M2)) + (-I2 - 0.5*L1*L2*M2*cos(theta2) - 0.25*L2**2*M2)*(0.5*G*L2*M2*cos(theta1 + theta2) - L1*L2*M2*theta1_dot*theta2_dot*cos(theta2) + 0.5*L1*L2*M2*theta2_dot**2*cos(theta2))/(-0.25*L1**2*L2**2*M2**2*cos(theta2)**2 + (I2 + 0.25*L2**2*M2)*(I1 + 0.25*L1**2*M1 + L1**2*M2)), -L1*L2*M2*theta2_dot*(-I2 - 0.5*L1*L2*M2*cos(theta2) - 0.25*L2**2*M2)*sin(theta2)/(-0.25*L1**2*L2**2*M2**2*cos(theta2)**2 + (I2 + 0.25*L2**2*M2)*(I1 + 0.25*L1**2*M1 + L1**2*M2)) - 1.0*L1*theta1_dot*(I1 + I2 + 0.25*L1**2*M1 + L1**2*M2 + 1.0*L1*L2*M2*cos(theta2) + 0.25*L2**2*M2)*sin(theta2)/(-0.25*L1**2*L2**2*M2**2*cos(theta2)**2 + (I2 + 0.25*L2**2*M2)*(I1 + 0.25*L1**2*M1 + L1**2*M2)), (-L1*L2*M2*theta1_dot*sin(theta2) + 1.0*L1*L2*M2*theta2_dot*sin(theta2))*(-I2 - 0.5*L1*L2*M2*cos(theta2) - 0.25*L2**2*M2)/(-0.25*L1**2*L2**2*M2**2*cos(theta2)**2 + (I2 + 0.25*L2**2*M2)*(I1 + 0.25*L1**2*M1 + L1**2*M2))]])"
      ]
     },
     "execution_count": 31,
     "metadata": {},
     "output_type": "execute_result"
    }
   ],
   "source": [
    "jacobian_ddot_theta"
   ]
  },
  {
   "cell_type": "code",
   "execution_count": 4,
   "metadata": {},
   "outputs": [
    {
     "data": {
      "text/latex": [
       "$\\displaystyle \\left[\\begin{matrix}\\frac{0.5 G L_{2} M_{2} \\left(- I_{2} - 0.5 L_{1} L_{2} M_{2} \\cos{\\left(\\theta_{2} \\right)} - 0.25 L_{2}^{2} M_{2}\\right) \\cos{\\left(\\theta_{1} + \\theta_{2} \\right)}}{- 0.25 L_{1}^{2} L_{2}^{2} M_{2}^{2} \\cos^{2}{\\left(\\theta_{2} \\right)} + \\left(I_{2} + 0.25 L_{2}^{2} M_{2}\\right) \\left(I_{1} + 0.25 L_{1}^{2} M_{1} + L_{1}^{2} M_{2}\\right)} + \\frac{\\left(I_{2} + 0.25 L_{2}^{2} M_{2}\\right) \\left(0.5 G L_{1} M_{1} \\cos{\\left(\\theta_{1} \\right)} - G L_{1} M_{2} \\cos{\\left(\\theta_{1} \\right)} + 0.5 G L_{2} M_{2} \\cos{\\left(\\theta_{1} + \\theta_{2} \\right)}\\right)}{- 0.25 L_{1}^{2} L_{2}^{2} M_{2}^{2} \\cos^{2}{\\left(\\theta_{2} \\right)} + \\left(I_{2} + 0.25 L_{2}^{2} M_{2}\\right) \\left(I_{1} + 0.25 L_{1}^{2} M_{1} + L_{1}^{2} M_{2}\\right)} & - \\frac{0.5 L_{1}^{2} L_{2}^{2} M_{2}^{2} \\left(I_{2} + 0.25 L_{2}^{2} M_{2}\\right) \\left(0.5 G L_{1} M_{1} \\sin{\\left(\\theta_{1} \\right)} - G L_{1} M_{2} \\sin{\\left(\\theta_{1} \\right)} + 0.5 G L_{2} M_{2} \\sin{\\left(\\theta_{1} + \\theta_{2} \\right)} - L_{1} L_{2} M_{2} \\theta_{1 dot} \\theta_{2 dot} \\sin{\\left(\\theta_{2} \\right)} + 0.5 L_{1} L_{2} M_{2} \\theta_{2 dot}^{2} \\sin{\\left(\\theta_{2} \\right)} + u_{1}\\right) \\sin{\\left(\\theta_{2} \\right)} \\cos{\\left(\\theta_{2} \\right)}}{\\left(- 0.25 L_{1}^{2} L_{2}^{2} M_{2}^{2} \\cos^{2}{\\left(\\theta_{2} \\right)} + \\left(I_{2} + 0.25 L_{2}^{2} M_{2}\\right) \\left(I_{1} + 0.25 L_{1}^{2} M_{1} + L_{1}^{2} M_{2}\\right)\\right)^{2}} - \\frac{0.5 L_{1}^{2} L_{2}^{2} M_{2}^{2} \\left(- I_{2} - 0.5 L_{1} L_{2} M_{2} \\cos{\\left(\\theta_{2} \\right)} - 0.25 L_{2}^{2} M_{2}\\right) \\left(0.5 G L_{2} M_{2} \\sin{\\left(\\theta_{1} + \\theta_{2} \\right)} - 0.5 L_{1} \\theta_{1 dot}^{2} \\sin{\\left(\\theta_{2} \\right)} + u_{2}\\right) \\sin{\\left(\\theta_{2} \\right)} \\cos{\\left(\\theta_{2} \\right)}}{\\left(- 0.25 L_{1}^{2} L_{2}^{2} M_{2}^{2} \\cos^{2}{\\left(\\theta_{2} \\right)} + \\left(I_{2} + 0.25 L_{2}^{2} M_{2}\\right) \\left(I_{1} + 0.25 L_{1}^{2} M_{1} + L_{1}^{2} M_{2}\\right)\\right)^{2}} + \\frac{0.5 L_{1} L_{2} M_{2} \\cdot \\left(0.5 G L_{2} M_{2} \\sin{\\left(\\theta_{1} + \\theta_{2} \\right)} - 0.5 L_{1} \\theta_{1 dot}^{2} \\sin{\\left(\\theta_{2} \\right)} + u_{2}\\right) \\sin{\\left(\\theta_{2} \\right)}}{- 0.25 L_{1}^{2} L_{2}^{2} M_{2}^{2} \\cos^{2}{\\left(\\theta_{2} \\right)} + \\left(I_{2} + 0.25 L_{2}^{2} M_{2}\\right) \\left(I_{1} + 0.25 L_{1}^{2} M_{1} + L_{1}^{2} M_{2}\\right)} + \\frac{\\left(I_{2} + 0.25 L_{2}^{2} M_{2}\\right) \\left(0.5 G L_{2} M_{2} \\cos{\\left(\\theta_{1} + \\theta_{2} \\right)} - L_{1} L_{2} M_{2} \\theta_{1 dot} \\theta_{2 dot} \\cos{\\left(\\theta_{2} \\right)} + 0.5 L_{1} L_{2} M_{2} \\theta_{2 dot}^{2} \\cos{\\left(\\theta_{2} \\right)}\\right)}{- 0.25 L_{1}^{2} L_{2}^{2} M_{2}^{2} \\cos^{2}{\\left(\\theta_{2} \\right)} + \\left(I_{2} + 0.25 L_{2}^{2} M_{2}\\right) \\left(I_{1} + 0.25 L_{1}^{2} M_{1} + L_{1}^{2} M_{2}\\right)} + \\frac{\\left(0.5 G L_{2} M_{2} \\cos{\\left(\\theta_{1} + \\theta_{2} \\right)} - 0.5 L_{1} \\theta_{1 dot}^{2} \\cos{\\left(\\theta_{2} \\right)}\\right) \\left(- I_{2} - 0.5 L_{1} L_{2} M_{2} \\cos{\\left(\\theta_{2} \\right)} - 0.25 L_{2}^{2} M_{2}\\right)}{- 0.25 L_{1}^{2} L_{2}^{2} M_{2}^{2} \\cos^{2}{\\left(\\theta_{2} \\right)} + \\left(I_{2} + 0.25 L_{2}^{2} M_{2}\\right) \\left(I_{1} + 0.25 L_{1}^{2} M_{1} + L_{1}^{2} M_{2}\\right)} & - \\frac{L_{1} L_{2} M_{2} \\theta_{2 dot} \\left(I_{2} + 0.25 L_{2}^{2} M_{2}\\right) \\sin{\\left(\\theta_{2} \\right)}}{- 0.25 L_{1}^{2} L_{2}^{2} M_{2}^{2} \\cos^{2}{\\left(\\theta_{2} \\right)} + \\left(I_{2} + 0.25 L_{2}^{2} M_{2}\\right) \\left(I_{1} + 0.25 L_{1}^{2} M_{1} + L_{1}^{2} M_{2}\\right)} - \\frac{1.0 L_{1} \\theta_{1 dot} \\left(- I_{2} - 0.5 L_{1} L_{2} M_{2} \\cos{\\left(\\theta_{2} \\right)} - 0.25 L_{2}^{2} M_{2}\\right) \\sin{\\left(\\theta_{2} \\right)}}{- 0.25 L_{1}^{2} L_{2}^{2} M_{2}^{2} \\cos^{2}{\\left(\\theta_{2} \\right)} + \\left(I_{2} + 0.25 L_{2}^{2} M_{2}\\right) \\left(I_{1} + 0.25 L_{1}^{2} M_{1} + L_{1}^{2} M_{2}\\right)} & \\frac{\\left(I_{2} + 0.25 L_{2}^{2} M_{2}\\right) \\left(- L_{1} L_{2} M_{2} \\theta_{1 dot} \\sin{\\left(\\theta_{2} \\right)} + 1.0 L_{1} L_{2} M_{2} \\theta_{2 dot} \\sin{\\left(\\theta_{2} \\right)}\\right)}{- 0.25 L_{1}^{2} L_{2}^{2} M_{2}^{2} \\cos^{2}{\\left(\\theta_{2} \\right)} + \\left(I_{2} + 0.25 L_{2}^{2} M_{2}\\right) \\left(I_{1} + 0.25 L_{1}^{2} M_{1} + L_{1}^{2} M_{2}\\right)}\\\\\\frac{0.5 G L_{2} M_{2} \\left(I_{1} + I_{2} + 0.25 L_{1}^{2} M_{1} + L_{1}^{2} M_{2} + 1.0 L_{1} L_{2} M_{2} \\cos{\\left(\\theta_{2} \\right)} + 0.25 L_{2}^{2} M_{2}\\right) \\cos{\\left(\\theta_{1} + \\theta_{2} \\right)}}{- 0.25 L_{1}^{2} L_{2}^{2} M_{2}^{2} \\cos^{2}{\\left(\\theta_{2} \\right)} + \\left(I_{2} + 0.25 L_{2}^{2} M_{2}\\right) \\left(I_{1} + 0.25 L_{1}^{2} M_{1} + L_{1}^{2} M_{2}\\right)} + \\frac{\\left(- I_{2} - 0.5 L_{1} L_{2} M_{2} \\cos{\\left(\\theta_{2} \\right)} - 0.25 L_{2}^{2} M_{2}\\right) \\left(0.5 G L_{1} M_{1} \\cos{\\left(\\theta_{1} \\right)} - G L_{1} M_{2} \\cos{\\left(\\theta_{1} \\right)} + 0.5 G L_{2} M_{2} \\cos{\\left(\\theta_{1} + \\theta_{2} \\right)}\\right)}{- 0.25 L_{1}^{2} L_{2}^{2} M_{2}^{2} \\cos^{2}{\\left(\\theta_{2} \\right)} + \\left(I_{2} + 0.25 L_{2}^{2} M_{2}\\right) \\left(I_{1} + 0.25 L_{1}^{2} M_{1} + L_{1}^{2} M_{2}\\right)} & - \\frac{0.5 L_{1}^{2} L_{2}^{2} M_{2}^{2} \\left(- I_{2} - 0.5 L_{1} L_{2} M_{2} \\cos{\\left(\\theta_{2} \\right)} - 0.25 L_{2}^{2} M_{2}\\right) \\left(0.5 G L_{1} M_{1} \\sin{\\left(\\theta_{1} \\right)} - G L_{1} M_{2} \\sin{\\left(\\theta_{1} \\right)} + 0.5 G L_{2} M_{2} \\sin{\\left(\\theta_{1} + \\theta_{2} \\right)} - L_{1} L_{2} M_{2} \\theta_{1 dot} \\theta_{2 dot} \\sin{\\left(\\theta_{2} \\right)} + 0.5 L_{1} L_{2} M_{2} \\theta_{2 dot}^{2} \\sin{\\left(\\theta_{2} \\right)} + u_{1}\\right) \\sin{\\left(\\theta_{2} \\right)} \\cos{\\left(\\theta_{2} \\right)}}{\\left(- 0.25 L_{1}^{2} L_{2}^{2} M_{2}^{2} \\cos^{2}{\\left(\\theta_{2} \\right)} + \\left(I_{2} + 0.25 L_{2}^{2} M_{2}\\right) \\left(I_{1} + 0.25 L_{1}^{2} M_{1} + L_{1}^{2} M_{2}\\right)\\right)^{2}} - \\frac{0.5 L_{1}^{2} L_{2}^{2} M_{2}^{2} \\cdot \\left(0.5 G L_{2} M_{2} \\sin{\\left(\\theta_{1} + \\theta_{2} \\right)} - 0.5 L_{1} \\theta_{1 dot}^{2} \\sin{\\left(\\theta_{2} \\right)} + u_{2}\\right) \\left(I_{1} + I_{2} + 0.25 L_{1}^{2} M_{1} + L_{1}^{2} M_{2} + 1.0 L_{1} L_{2} M_{2} \\cos{\\left(\\theta_{2} \\right)} + 0.25 L_{2}^{2} M_{2}\\right) \\sin{\\left(\\theta_{2} \\right)} \\cos{\\left(\\theta_{2} \\right)}}{\\left(- 0.25 L_{1}^{2} L_{2}^{2} M_{2}^{2} \\cos^{2}{\\left(\\theta_{2} \\right)} + \\left(I_{2} + 0.25 L_{2}^{2} M_{2}\\right) \\left(I_{1} + 0.25 L_{1}^{2} M_{1} + L_{1}^{2} M_{2}\\right)\\right)^{2}} - \\frac{1.0 L_{1} L_{2} M_{2} \\cdot \\left(0.5 G L_{2} M_{2} \\sin{\\left(\\theta_{1} + \\theta_{2} \\right)} - 0.5 L_{1} \\theta_{1 dot}^{2} \\sin{\\left(\\theta_{2} \\right)} + u_{2}\\right) \\sin{\\left(\\theta_{2} \\right)}}{- 0.25 L_{1}^{2} L_{2}^{2} M_{2}^{2} \\cos^{2}{\\left(\\theta_{2} \\right)} + \\left(I_{2} + 0.25 L_{2}^{2} M_{2}\\right) \\left(I_{1} + 0.25 L_{1}^{2} M_{1} + L_{1}^{2} M_{2}\\right)} + \\frac{0.5 L_{1} L_{2} M_{2} \\cdot \\left(0.5 G L_{1} M_{1} \\sin{\\left(\\theta_{1} \\right)} - G L_{1} M_{2} \\sin{\\left(\\theta_{1} \\right)} + 0.5 G L_{2} M_{2} \\sin{\\left(\\theta_{1} + \\theta_{2} \\right)} - L_{1} L_{2} M_{2} \\theta_{1 dot} \\theta_{2 dot} \\sin{\\left(\\theta_{2} \\right)} + 0.5 L_{1} L_{2} M_{2} \\theta_{2 dot}^{2} \\sin{\\left(\\theta_{2} \\right)} + u_{1}\\right) \\sin{\\left(\\theta_{2} \\right)}}{- 0.25 L_{1}^{2} L_{2}^{2} M_{2}^{2} \\cos^{2}{\\left(\\theta_{2} \\right)} + \\left(I_{2} + 0.25 L_{2}^{2} M_{2}\\right) \\left(I_{1} + 0.25 L_{1}^{2} M_{1} + L_{1}^{2} M_{2}\\right)} + \\frac{\\left(0.5 G L_{2} M_{2} \\cos{\\left(\\theta_{1} + \\theta_{2} \\right)} - 0.5 L_{1} \\theta_{1 dot}^{2} \\cos{\\left(\\theta_{2} \\right)}\\right) \\left(I_{1} + I_{2} + 0.25 L_{1}^{2} M_{1} + L_{1}^{2} M_{2} + 1.0 L_{1} L_{2} M_{2} \\cos{\\left(\\theta_{2} \\right)} + 0.25 L_{2}^{2} M_{2}\\right)}{- 0.25 L_{1}^{2} L_{2}^{2} M_{2}^{2} \\cos^{2}{\\left(\\theta_{2} \\right)} + \\left(I_{2} + 0.25 L_{2}^{2} M_{2}\\right) \\left(I_{1} + 0.25 L_{1}^{2} M_{1} + L_{1}^{2} M_{2}\\right)} + \\frac{\\left(- I_{2} - 0.5 L_{1} L_{2} M_{2} \\cos{\\left(\\theta_{2} \\right)} - 0.25 L_{2}^{2} M_{2}\\right) \\left(0.5 G L_{2} M_{2} \\cos{\\left(\\theta_{1} + \\theta_{2} \\right)} - L_{1} L_{2} M_{2} \\theta_{1 dot} \\theta_{2 dot} \\cos{\\left(\\theta_{2} \\right)} + 0.5 L_{1} L_{2} M_{2} \\theta_{2 dot}^{2} \\cos{\\left(\\theta_{2} \\right)}\\right)}{- 0.25 L_{1}^{2} L_{2}^{2} M_{2}^{2} \\cos^{2}{\\left(\\theta_{2} \\right)} + \\left(I_{2} + 0.25 L_{2}^{2} M_{2}\\right) \\left(I_{1} + 0.25 L_{1}^{2} M_{1} + L_{1}^{2} M_{2}\\right)} & - \\frac{L_{1} L_{2} M_{2} \\theta_{2 dot} \\left(- I_{2} - 0.5 L_{1} L_{2} M_{2} \\cos{\\left(\\theta_{2} \\right)} - 0.25 L_{2}^{2} M_{2}\\right) \\sin{\\left(\\theta_{2} \\right)}}{- 0.25 L_{1}^{2} L_{2}^{2} M_{2}^{2} \\cos^{2}{\\left(\\theta_{2} \\right)} + \\left(I_{2} + 0.25 L_{2}^{2} M_{2}\\right) \\left(I_{1} + 0.25 L_{1}^{2} M_{1} + L_{1}^{2} M_{2}\\right)} - \\frac{1.0 L_{1} \\theta_{1 dot} \\left(I_{1} + I_{2} + 0.25 L_{1}^{2} M_{1} + L_{1}^{2} M_{2} + 1.0 L_{1} L_{2} M_{2} \\cos{\\left(\\theta_{2} \\right)} + 0.25 L_{2}^{2} M_{2}\\right) \\sin{\\left(\\theta_{2} \\right)}}{- 0.25 L_{1}^{2} L_{2}^{2} M_{2}^{2} \\cos^{2}{\\left(\\theta_{2} \\right)} + \\left(I_{2} + 0.25 L_{2}^{2} M_{2}\\right) \\left(I_{1} + 0.25 L_{1}^{2} M_{1} + L_{1}^{2} M_{2}\\right)} & \\frac{\\left(- L_{1} L_{2} M_{2} \\theta_{1 dot} \\sin{\\left(\\theta_{2} \\right)} + 1.0 L_{1} L_{2} M_{2} \\theta_{2 dot} \\sin{\\left(\\theta_{2} \\right)}\\right) \\left(- I_{2} - 0.5 L_{1} L_{2} M_{2} \\cos{\\left(\\theta_{2} \\right)} - 0.25 L_{2}^{2} M_{2}\\right)}{- 0.25 L_{1}^{2} L_{2}^{2} M_{2}^{2} \\cos^{2}{\\left(\\theta_{2} \\right)} + \\left(I_{2} + 0.25 L_{2}^{2} M_{2}\\right) \\left(I_{1} + 0.25 L_{1}^{2} M_{1} + L_{1}^{2} M_{2}\\right)}\\end{matrix}\\right]$"
      ],
      "text/plain": [
       "Matrix([\n",
       "[                                                           0.5*G*L2*M2*(-I2 - 0.5*L1*L2*M2*cos(theta2) - 0.25*L2**2*M2)*cos(theta1 + theta2)/(-0.25*L1**2*L2**2*M2**2*cos(theta2)**2 + (I2 + 0.25*L2**2*M2)*(I1 + 0.25*L1**2*M1 + L1**2*M2)) + (I2 + 0.25*L2**2*M2)*(0.5*G*L1*M1*cos(theta1) - G*L1*M2*cos(theta1) + 0.5*G*L2*M2*cos(theta1 + theta2))/(-0.25*L1**2*L2**2*M2**2*cos(theta2)**2 + (I2 + 0.25*L2**2*M2)*(I1 + 0.25*L1**2*M1 + L1**2*M2)),                                                                                                                                                                                                                                                                                                                                                                                                                                -0.5*L1**2*L2**2*M2**2*(I2 + 0.25*L2**2*M2)*(0.5*G*L1*M1*sin(theta1) - G*L1*M2*sin(theta1) + 0.5*G*L2*M2*sin(theta1 + theta2) - L1*L2*M2*theta1_dot*theta2_dot*sin(theta2) + 0.5*L1*L2*M2*theta2_dot**2*sin(theta2) + u1)*sin(theta2)*cos(theta2)/(-0.25*L1**2*L2**2*M2**2*cos(theta2)**2 + (I2 + 0.25*L2**2*M2)*(I1 + 0.25*L1**2*M1 + L1**2*M2))**2 - 0.5*L1**2*L2**2*M2**2*(-I2 - 0.5*L1*L2*M2*cos(theta2) - 0.25*L2**2*M2)*(0.5*G*L2*M2*sin(theta1 + theta2) - 0.5*L1*theta1_dot**2*sin(theta2) + u2)*sin(theta2)*cos(theta2)/(-0.25*L1**2*L2**2*M2**2*cos(theta2)**2 + (I2 + 0.25*L2**2*M2)*(I1 + 0.25*L1**2*M1 + L1**2*M2))**2 + 0.5*L1*L2*M2*(0.5*G*L2*M2*sin(theta1 + theta2) - 0.5*L1*theta1_dot**2*sin(theta2) + u2)*sin(theta2)/(-0.25*L1**2*L2**2*M2**2*cos(theta2)**2 + (I2 + 0.25*L2**2*M2)*(I1 + 0.25*L1**2*M1 + L1**2*M2)) + (I2 + 0.25*L2**2*M2)*(0.5*G*L2*M2*cos(theta1 + theta2) - L1*L2*M2*theta1_dot*theta2_dot*cos(theta2) + 0.5*L1*L2*M2*theta2_dot**2*cos(theta2))/(-0.25*L1**2*L2**2*M2**2*cos(theta2)**2 + (I2 + 0.25*L2**2*M2)*(I1 + 0.25*L1**2*M1 + L1**2*M2)) + (0.5*G*L2*M2*cos(theta1 + theta2) - 0.5*L1*theta1_dot**2*cos(theta2))*(-I2 - 0.5*L1*L2*M2*cos(theta2) - 0.25*L2**2*M2)/(-0.25*L1**2*L2**2*M2**2*cos(theta2)**2 + (I2 + 0.25*L2**2*M2)*(I1 + 0.25*L1**2*M1 + L1**2*M2)),                                                            -L1*L2*M2*theta2_dot*(I2 + 0.25*L2**2*M2)*sin(theta2)/(-0.25*L1**2*L2**2*M2**2*cos(theta2)**2 + (I2 + 0.25*L2**2*M2)*(I1 + 0.25*L1**2*M1 + L1**2*M2)) - 1.0*L1*theta1_dot*(-I2 - 0.5*L1*L2*M2*cos(theta2) - 0.25*L2**2*M2)*sin(theta2)/(-0.25*L1**2*L2**2*M2**2*cos(theta2)**2 + (I2 + 0.25*L2**2*M2)*(I1 + 0.25*L1**2*M1 + L1**2*M2)),                             (I2 + 0.25*L2**2*M2)*(-L1*L2*M2*theta1_dot*sin(theta2) + 1.0*L1*L2*M2*theta2_dot*sin(theta2))/(-0.25*L1**2*L2**2*M2**2*cos(theta2)**2 + (I2 + 0.25*L2**2*M2)*(I1 + 0.25*L1**2*M1 + L1**2*M2))],\n",
       "[0.5*G*L2*M2*(I1 + I2 + 0.25*L1**2*M1 + L1**2*M2 + 1.0*L1*L2*M2*cos(theta2) + 0.25*L2**2*M2)*cos(theta1 + theta2)/(-0.25*L1**2*L2**2*M2**2*cos(theta2)**2 + (I2 + 0.25*L2**2*M2)*(I1 + 0.25*L1**2*M1 + L1**2*M2)) + (-I2 - 0.5*L1*L2*M2*cos(theta2) - 0.25*L2**2*M2)*(0.5*G*L1*M1*cos(theta1) - G*L1*M2*cos(theta1) + 0.5*G*L2*M2*cos(theta1 + theta2))/(-0.25*L1**2*L2**2*M2**2*cos(theta2)**2 + (I2 + 0.25*L2**2*M2)*(I1 + 0.25*L1**2*M1 + L1**2*M2)), -0.5*L1**2*L2**2*M2**2*(-I2 - 0.5*L1*L2*M2*cos(theta2) - 0.25*L2**2*M2)*(0.5*G*L1*M1*sin(theta1) - G*L1*M2*sin(theta1) + 0.5*G*L2*M2*sin(theta1 + theta2) - L1*L2*M2*theta1_dot*theta2_dot*sin(theta2) + 0.5*L1*L2*M2*theta2_dot**2*sin(theta2) + u1)*sin(theta2)*cos(theta2)/(-0.25*L1**2*L2**2*M2**2*cos(theta2)**2 + (I2 + 0.25*L2**2*M2)*(I1 + 0.25*L1**2*M1 + L1**2*M2))**2 - 0.5*L1**2*L2**2*M2**2*(0.5*G*L2*M2*sin(theta1 + theta2) - 0.5*L1*theta1_dot**2*sin(theta2) + u2)*(I1 + I2 + 0.25*L1**2*M1 + L1**2*M2 + 1.0*L1*L2*M2*cos(theta2) + 0.25*L2**2*M2)*sin(theta2)*cos(theta2)/(-0.25*L1**2*L2**2*M2**2*cos(theta2)**2 + (I2 + 0.25*L2**2*M2)*(I1 + 0.25*L1**2*M1 + L1**2*M2))**2 - 1.0*L1*L2*M2*(0.5*G*L2*M2*sin(theta1 + theta2) - 0.5*L1*theta1_dot**2*sin(theta2) + u2)*sin(theta2)/(-0.25*L1**2*L2**2*M2**2*cos(theta2)**2 + (I2 + 0.25*L2**2*M2)*(I1 + 0.25*L1**2*M1 + L1**2*M2)) + 0.5*L1*L2*M2*(0.5*G*L1*M1*sin(theta1) - G*L1*M2*sin(theta1) + 0.5*G*L2*M2*sin(theta1 + theta2) - L1*L2*M2*theta1_dot*theta2_dot*sin(theta2) + 0.5*L1*L2*M2*theta2_dot**2*sin(theta2) + u1)*sin(theta2)/(-0.25*L1**2*L2**2*M2**2*cos(theta2)**2 + (I2 + 0.25*L2**2*M2)*(I1 + 0.25*L1**2*M1 + L1**2*M2)) + (0.5*G*L2*M2*cos(theta1 + theta2) - 0.5*L1*theta1_dot**2*cos(theta2))*(I1 + I2 + 0.25*L1**2*M1 + L1**2*M2 + 1.0*L1*L2*M2*cos(theta2) + 0.25*L2**2*M2)/(-0.25*L1**2*L2**2*M2**2*cos(theta2)**2 + (I2 + 0.25*L2**2*M2)*(I1 + 0.25*L1**2*M1 + L1**2*M2)) + (-I2 - 0.5*L1*L2*M2*cos(theta2) - 0.25*L2**2*M2)*(0.5*G*L2*M2*cos(theta1 + theta2) - L1*L2*M2*theta1_dot*theta2_dot*cos(theta2) + 0.5*L1*L2*M2*theta2_dot**2*cos(theta2))/(-0.25*L1**2*L2**2*M2**2*cos(theta2)**2 + (I2 + 0.25*L2**2*M2)*(I1 + 0.25*L1**2*M1 + L1**2*M2)), -L1*L2*M2*theta2_dot*(-I2 - 0.5*L1*L2*M2*cos(theta2) - 0.25*L2**2*M2)*sin(theta2)/(-0.25*L1**2*L2**2*M2**2*cos(theta2)**2 + (I2 + 0.25*L2**2*M2)*(I1 + 0.25*L1**2*M1 + L1**2*M2)) - 1.0*L1*theta1_dot*(I1 + I2 + 0.25*L1**2*M1 + L1**2*M2 + 1.0*L1*L2*M2*cos(theta2) + 0.25*L2**2*M2)*sin(theta2)/(-0.25*L1**2*L2**2*M2**2*cos(theta2)**2 + (I2 + 0.25*L2**2*M2)*(I1 + 0.25*L1**2*M1 + L1**2*M2)), (-L1*L2*M2*theta1_dot*sin(theta2) + 1.0*L1*L2*M2*theta2_dot*sin(theta2))*(-I2 - 0.5*L1*L2*M2*cos(theta2) - 0.25*L2**2*M2)/(-0.25*L1**2*L2**2*M2**2*cos(theta2)**2 + (I2 + 0.25*L2**2*M2)*(I1 + 0.25*L1**2*M1 + L1**2*M2))]])"
      ]
     },
     "execution_count": 4,
     "metadata": {},
     "output_type": "execute_result"
    }
   ],
   "source": [
    "jacobian_ddot_theta"
   ]
  }
 ],
 "metadata": {
  "kernelspec": {
   "display_name": "base",
   "language": "python",
   "name": "python3"
  },
  "language_info": {
   "codemirror_mode": {
    "name": "ipython",
    "version": 3
   },
   "file_extension": ".py",
   "mimetype": "text/x-python",
   "name": "python",
   "nbconvert_exporter": "python",
   "pygments_lexer": "ipython3",
   "version": "3.12.4"
  }
 },
 "nbformat": 4,
 "nbformat_minor": 2
}
